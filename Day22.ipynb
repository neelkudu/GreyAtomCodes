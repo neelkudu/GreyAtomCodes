{
 "cells": [
  {
   "cell_type": "code",
   "execution_count": 100,
   "metadata": {},
   "outputs": [],
   "source": [
    "import pandas as pd\n",
    "import numpy as np\n",
    "from sklearn.preprocessing import LabelEncoder\n",
    "from sklearn.model_selection import train_test_split as tts"
   ]
  },
  {
   "cell_type": "code",
   "execution_count": 101,
   "metadata": {},
   "outputs": [],
   "source": [
    "test = [\n",
    "   ('The beer was good.', 'pos'),\n",
    "   ('I do not enjoy my job', 'neg'),\n",
    "   (\"I ain't feeling dandy today.\", 'neg'),\n",
    "   (\"I feel amazing!\", 'pos'),\n",
    "   ('Gary is a friend of mine.', 'pos'),\n",
    "   (\"I can't believe I'm doing this.\", 'neg')\n",
    "]"
   ]
  },
  {
   "cell_type": "code",
   "execution_count": 102,
   "metadata": {},
   "outputs": [],
   "source": [
    "train = [('I love this sandwich.', 'pos'),\n",
    "  ('This is an amazing place!', 'pos'),\n",
    "  ('I feel very good about these beers.', 'pos'),\n",
    "  ('This is my best work.', 'pos'),\n",
    "  (\"What an awesome view\", 'pos'),\n",
    "  ('I do not like this restaurant', 'neg'),\n",
    "  ('I am tired of this stuff.', 'neg'),\n",
    "  (\"I can't deal with this\", 'neg'),\n",
    "  ('He is my sworn enemy!', 'neg'),\n",
    "  ('My boss is horrible.', 'neg')]"
   ]
  },
  {
   "cell_type": "code",
   "execution_count": 103,
   "metadata": {},
   "outputs": [],
   "source": [
    "test=pd.DataFrame(test,columns=[\"sentence\",\"sentiment\"])\n",
    "train=pd.DataFrame(train,columns=[\"sentence\",\"sentiment\"])"
   ]
  },
  {
   "cell_type": "code",
   "execution_count": 104,
   "metadata": {},
   "outputs": [],
   "source": [
    "le=LabelEncoder()"
   ]
  },
  {
   "cell_type": "code",
   "execution_count": 105,
   "metadata": {},
   "outputs": [],
   "source": [
    "train[\"sentiment\"]=le.fit_transform(train[\"sentiment\"])\n",
    "test[\"sentiment\"]=le.fit_transform(test[\"sentiment\"])"
   ]
  },
  {
   "cell_type": "code",
   "execution_count": 106,
   "metadata": {},
   "outputs": [],
   "source": [
    "from nltk.corpus import stopwords\n",
    "from string import punctuation\n",
    "stuff_to_be_removed = list(stopwords.words(\"english\"))+list(punctuation)\n",
    "from nltk.tokenize import word_tokenize\n",
    "from nltk.stem.lancaster import LancasterStemmer\n",
    "from nltk.stem import WordNetLemmatizer"
   ]
  },
  {
   "cell_type": "code",
   "execution_count": 107,
   "metadata": {},
   "outputs": [],
   "source": [
    "lancaster_stemmer = LancasterStemmer()\n",
    "stemmer = LancasterStemmer()"
   ]
  },
  {
   "cell_type": "code",
   "execution_count": 108,
   "metadata": {},
   "outputs": [],
   "source": [
    "train_corpus=train[\"sentence\"].tolist()\n",
    "test_corpus=test[\"sentence\"].tolist()\n",
    "train_label=train[\"sentiment\"].tolist()\n",
    "test_label=test[\"sentiment\"].tolist()"
   ]
  },
  {
   "cell_type": "code",
   "execution_count": 109,
   "metadata": {},
   "outputs": [],
   "source": [
    "data=train_corpus+test_corpus"
   ]
  },
  {
   "cell_type": "code",
   "execution_count": 110,
   "metadata": {},
   "outputs": [
    {
     "data": {
      "text/plain": [
       "['I love this sandwich.',\n",
       " 'This is an amazing place!',\n",
       " 'I feel very good about these beers.',\n",
       " 'This is my best work.',\n",
       " 'What an awesome view',\n",
       " 'I do not like this restaurant',\n",
       " 'I am tired of this stuff.',\n",
       " \"I can't deal with this\",\n",
       " 'He is my sworn enemy!',\n",
       " 'My boss is horrible.',\n",
       " 'The beer was good.',\n",
       " 'I do not enjoy my job',\n",
       " \"I ain't feeling dandy today.\",\n",
       " 'I feel amazing!',\n",
       " 'Gary is a friend of mine.',\n",
       " \"I can't believe I'm doing this.\"]"
      ]
     },
     "execution_count": 110,
     "metadata": {},
     "output_type": "execute_result"
    }
   ],
   "source": [
    "data"
   ]
  },
  {
   "cell_type": "code",
   "execution_count": 111,
   "metadata": {},
   "outputs": [],
   "source": [
    "final_corpus=[]\n",
    "for i in range(len(data)):\n",
    "    text=word_tokenize(data[i].lower())\n",
    "    text=[lancaster_stemmer.stem(w) for w in text if w not in stuff_to_be_removed]\n",
    "    sent=\" \".join(text)\n",
    "    final_corpus.append(sent)"
   ]
  },
  {
   "cell_type": "code",
   "execution_count": 112,
   "metadata": {},
   "outputs": [
    {
     "data": {
      "text/plain": [
       "['lov sandwich',\n",
       " 'amaz plac',\n",
       " 'feel good beer',\n",
       " 'best work',\n",
       " 'awesom view',\n",
       " 'lik resta',\n",
       " 'tir stuff',\n",
       " \"ca n't deal\",\n",
       " 'sworn enemy',\n",
       " 'boss horr',\n",
       " 'beer good',\n",
       " 'enjoy job',\n",
       " \"ai n't feel dandy today\",\n",
       " 'feel amaz',\n",
       " 'gary friend min',\n",
       " \"ca n't believ 'm\"]"
      ]
     },
     "execution_count": 112,
     "metadata": {},
     "output_type": "execute_result"
    }
   ],
   "source": [
    "final_corpus"
   ]
  },
  {
   "cell_type": "code",
   "execution_count": 113,
   "metadata": {},
   "outputs": [],
   "source": [
    "new_df=pd.DataFrame(final_corpus,columns=[\"sentence\"])"
   ]
  },
  {
   "cell_type": "code",
   "execution_count": 114,
   "metadata": {},
   "outputs": [],
   "source": [
    "labels=train_label+test_label\n",
    "new_df[\"sentiment\"]=labels"
   ]
  },
  {
   "cell_type": "code",
   "execution_count": 115,
   "metadata": {},
   "outputs": [],
   "source": [
    "from sklearn.feature_extraction.text import CountVectorizer,TfidfVectorizer"
   ]
  },
  {
   "cell_type": "code",
   "execution_count": 116,
   "metadata": {},
   "outputs": [],
   "source": [
    "cv=CountVectorizer()\n",
    "tfidf=TfidfVectorizer(stop_words='english')"
   ]
  },
  {
   "cell_type": "code",
   "execution_count": 117,
   "metadata": {},
   "outputs": [],
   "source": [
    "vector=tfidf.fit_transform(new_df[\"sentence\"])"
   ]
  },
  {
   "cell_type": "code",
   "execution_count": 118,
   "metadata": {},
   "outputs": [],
   "source": [
    "X=pd.DataFrame(vector.toarray())\n",
    "y=new_df[\"sentiment\"]"
   ]
  },
  {
   "cell_type": "code",
   "execution_count": 137,
   "metadata": {},
   "outputs": [],
   "source": [
    "X_train,X_test,y_train,y_test=tts(X,y,test_size=0.25,random_state=0)"
   ]
  },
  {
   "cell_type": "code",
   "execution_count": 138,
   "metadata": {},
   "outputs": [],
   "source": [
    "from sklearn.naive_bayes import GaussianNB,MultinomialNB\n",
    "from sklearn.svm import SVC\n",
    "from sklearn.linear_model import LogisticRegression\n",
    "from sklearn.metrics import accuracy_score,classification_report"
   ]
  },
  {
   "cell_type": "code",
   "execution_count": 139,
   "metadata": {},
   "outputs": [],
   "source": [
    "nb=GaussianNB()"
   ]
  },
  {
   "cell_type": "code",
   "execution_count": 140,
   "metadata": {},
   "outputs": [
    {
     "data": {
      "text/plain": [
       "GaussianNB(priors=None, var_smoothing=1e-09)"
      ]
     },
     "execution_count": 140,
     "metadata": {},
     "output_type": "execute_result"
    }
   ],
   "source": [
    "nb.fit(X_train,y_train)"
   ]
  },
  {
   "cell_type": "code",
   "execution_count": 141,
   "metadata": {},
   "outputs": [],
   "source": [
    "y_pred=nb.predict(X_test)"
   ]
  },
  {
   "cell_type": "code",
   "execution_count": 142,
   "metadata": {},
   "outputs": [
    {
     "name": "stdout",
     "output_type": "stream",
     "text": [
      "              precision    recall  f1-score   support\n",
      "\n",
      "           0       1.00      1.00      1.00         3\n",
      "           1       1.00      1.00      1.00         1\n",
      "\n",
      "    accuracy                           1.00         4\n",
      "   macro avg       1.00      1.00      1.00         4\n",
      "weighted avg       1.00      1.00      1.00         4\n",
      "\n"
     ]
    }
   ],
   "source": [
    "print(classification_report(y_test,y_pred))"
   ]
  },
  {
   "cell_type": "code",
   "execution_count": 143,
   "metadata": {},
   "outputs": [],
   "source": [
    "df=pd.read_pickle(\"C:\\\\Users\\\\Neel\\\\Desktop\\\\first_pickle.pkl\")"
   ]
  },
  {
   "cell_type": "code",
   "execution_count": 145,
   "metadata": {},
   "outputs": [
    {
     "data": {
      "text/plain": [
       "Mortgage                                                                        242194\n",
       "Debt collection                                                                 171567\n",
       "Credit reporting                                                                140424\n",
       "Credit card                                                                      89190\n",
       "Bank account or service                                                          86207\n",
       "Credit reporting, credit repair services, or other personal consumer reports     59186\n",
       "Student loan                                                                     38612\n",
       "Consumer Loan                                                                    31608\n",
       "Credit card or prepaid card                                                      11921\n",
       "Checking or savings account                                                       9947\n",
       "Payday loan                                                                       5546\n",
       "Money transfers                                                                   5354\n",
       "Prepaid card                                                                      3819\n",
       "Vehicle loan or lease                                                             2873\n",
       "Payday loan, title loan, or personal loan                                         2245\n",
       "Money transfer, virtual currency, or money service                                2213\n",
       "Other financial service                                                           1059\n",
       "Virtual currency                                                                    18\n",
       "Name: Product, dtype: int64"
      ]
     },
     "execution_count": 145,
     "metadata": {},
     "output_type": "execute_result"
    }
   ],
   "source": [
    "df[\"Product\"].value_counts()"
   ]
  },
  {
   "cell_type": "code",
   "execution_count": 148,
   "metadata": {},
   "outputs": [],
   "source": [
    "df=df[[\"Consumer complaint narrative\",\"Product\"]]"
   ]
  },
  {
   "cell_type": "code",
   "execution_count": null,
   "metadata": {},
   "outputs": [],
   "source": []
  }
 ],
 "metadata": {
  "kernelspec": {
   "display_name": "Python 3",
   "language": "python",
   "name": "python3"
  },
  "language_info": {
   "codemirror_mode": {
    "name": "ipython",
    "version": 3
   },
   "file_extension": ".py",
   "mimetype": "text/x-python",
   "name": "python",
   "nbconvert_exporter": "python",
   "pygments_lexer": "ipython3",
   "version": "3.7.3"
  }
 },
 "nbformat": 4,
 "nbformat_minor": 2
}
