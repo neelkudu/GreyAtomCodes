{
 "cells": [
  {
   "cell_type": "code",
   "execution_count": 3,
   "metadata": {
    "collapsed": true
   },
   "outputs": [],
   "source": [
    "import pandas as pd\n",
    "import numpy as np\n",
    "import math\n",
    "from sklearn.model_selection import train_test_split as tts\n",
    "from sklearn.neighbors import KNeighborsRegressor,KNeighborsClassifier\n",
    "from sklearn.linear_model import LinearRegression\n",
    "from sklearn.metrics import r2_score,mean_absolute_error,mean_squared_error,accuracy_score\n",
    "from sklearn.preprocessing import MinMaxScaler\n",
    "from sklearn import preprocessing\n",
    "import statsmodels.api as sm\n",
    "import seaborn as sns\n",
    "from sklearn.feature_selection import RFE"
   ]
  },
  {
   "cell_type": "code",
   "execution_count": 2,
   "metadata": {},
   "outputs": [
    {
     "data": {
      "text/html": [
       "<div>\n",
       "<style>\n",
       "    .dataframe thead tr:only-child th {\n",
       "        text-align: right;\n",
       "    }\n",
       "\n",
       "    .dataframe thead th {\n",
       "        text-align: left;\n",
       "    }\n",
       "\n",
       "    .dataframe tbody tr th {\n",
       "        vertical-align: top;\n",
       "    }\n",
       "</style>\n",
       "<table border=\"1\" class=\"dataframe\">\n",
       "  <thead>\n",
       "    <tr style=\"text-align: right;\">\n",
       "      <th></th>\n",
       "      <th>population</th>\n",
       "      <th>fertility</th>\n",
       "      <th>HIV</th>\n",
       "      <th>CO2</th>\n",
       "      <th>BMI_male</th>\n",
       "      <th>GDP</th>\n",
       "      <th>BMI_female</th>\n",
       "      <th>life</th>\n",
       "      <th>child_mortality</th>\n",
       "      <th>Region</th>\n",
       "    </tr>\n",
       "  </thead>\n",
       "  <tbody>\n",
       "    <tr>\n",
       "      <th>0</th>\n",
       "      <td>34811059.0</td>\n",
       "      <td>2.73</td>\n",
       "      <td>0.1</td>\n",
       "      <td>3.328945</td>\n",
       "      <td>24.59620</td>\n",
       "      <td>12314.0</td>\n",
       "      <td>129.9049</td>\n",
       "      <td>75.3</td>\n",
       "      <td>29.5</td>\n",
       "      <td>Middle East &amp; North Africa</td>\n",
       "    </tr>\n",
       "    <tr>\n",
       "      <th>1</th>\n",
       "      <td>19842251.0</td>\n",
       "      <td>6.43</td>\n",
       "      <td>2.0</td>\n",
       "      <td>1.474353</td>\n",
       "      <td>22.25083</td>\n",
       "      <td>7103.0</td>\n",
       "      <td>130.1247</td>\n",
       "      <td>58.3</td>\n",
       "      <td>192.0</td>\n",
       "      <td>Sub-Saharan Africa</td>\n",
       "    </tr>\n",
       "    <tr>\n",
       "      <th>2</th>\n",
       "      <td>40381860.0</td>\n",
       "      <td>2.24</td>\n",
       "      <td>0.5</td>\n",
       "      <td>4.785170</td>\n",
       "      <td>27.50170</td>\n",
       "      <td>14646.0</td>\n",
       "      <td>118.8915</td>\n",
       "      <td>75.5</td>\n",
       "      <td>15.4</td>\n",
       "      <td>America</td>\n",
       "    </tr>\n",
       "    <tr>\n",
       "      <th>3</th>\n",
       "      <td>2975029.0</td>\n",
       "      <td>1.40</td>\n",
       "      <td>0.1</td>\n",
       "      <td>1.804106</td>\n",
       "      <td>25.35542</td>\n",
       "      <td>7383.0</td>\n",
       "      <td>132.8108</td>\n",
       "      <td>72.5</td>\n",
       "      <td>20.0</td>\n",
       "      <td>Europe &amp; Central Asia</td>\n",
       "    </tr>\n",
       "    <tr>\n",
       "      <th>4</th>\n",
       "      <td>21370348.0</td>\n",
       "      <td>1.96</td>\n",
       "      <td>0.1</td>\n",
       "      <td>18.016313</td>\n",
       "      <td>27.56373</td>\n",
       "      <td>41312.0</td>\n",
       "      <td>117.3755</td>\n",
       "      <td>81.5</td>\n",
       "      <td>5.2</td>\n",
       "      <td>East Asia &amp; Pacific</td>\n",
       "    </tr>\n",
       "  </tbody>\n",
       "</table>\n",
       "</div>"
      ],
      "text/plain": [
       "   population  fertility  HIV        CO2  BMI_male      GDP  BMI_female  life  \\\n",
       "0  34811059.0       2.73  0.1   3.328945  24.59620  12314.0    129.9049  75.3   \n",
       "1  19842251.0       6.43  2.0   1.474353  22.25083   7103.0    130.1247  58.3   \n",
       "2  40381860.0       2.24  0.5   4.785170  27.50170  14646.0    118.8915  75.5   \n",
       "3   2975029.0       1.40  0.1   1.804106  25.35542   7383.0    132.8108  72.5   \n",
       "4  21370348.0       1.96  0.1  18.016313  27.56373  41312.0    117.3755  81.5   \n",
       "\n",
       "   child_mortality                      Region  \n",
       "0             29.5  Middle East & North Africa  \n",
       "1            192.0          Sub-Saharan Africa  \n",
       "2             15.4                     America  \n",
       "3             20.0       Europe & Central Asia  \n",
       "4              5.2         East Asia & Pacific  "
      ]
     },
     "execution_count": 2,
     "metadata": {},
     "output_type": "execute_result"
    }
   ],
   "source": [
    "df=pd.read_csv(\"C:\\\\Users\\\\Neel\\\\Desktop\\\\Greyatom Codes\\\\Practice Datasets\\\\gapminder.csv\")\n",
    "df.head()"
   ]
  },
  {
   "cell_type": "code",
   "execution_count": 3,
   "metadata": {},
   "outputs": [
    {
     "data": {
      "text/plain": [
       "(139, 10)"
      ]
     },
     "execution_count": 3,
     "metadata": {},
     "output_type": "execute_result"
    }
   ],
   "source": [
    "df.shape"
   ]
  },
  {
   "cell_type": "code",
   "execution_count": 4,
   "metadata": {},
   "outputs": [
    {
     "data": {
      "text/plain": [
       "population         float64\n",
       "fertility          float64\n",
       "HIV                float64\n",
       "CO2                float64\n",
       "BMI_male           float64\n",
       "GDP                float64\n",
       "BMI_female         float64\n",
       "life               float64\n",
       "child_mortality    float64\n",
       "Region              object\n",
       "dtype: object"
      ]
     },
     "execution_count": 4,
     "metadata": {},
     "output_type": "execute_result"
    }
   ],
   "source": [
    "df.dtypes"
   ]
  },
  {
   "cell_type": "markdown",
   "metadata": {},
   "source": [
    "## Why region column should be one hot encoded?\n",
    "Encoding is specifically used to get rid of categorical columns. when you use Label encoding for input features, it asssumes that higher the value of categorical variable better is that category, which can't be a good practice with above dataset because in case of \"Region\" column each region has equal weightage to be given there is no priority among the regions. \"Binarization\" will help us solve the problem implies One Hot Encoding"
   ]
  },
  {
   "cell_type": "code",
   "execution_count": 5,
   "metadata": {
    "collapsed": true
   },
   "outputs": [],
   "source": [
    "data=pd.get_dummies(df)"
   ]
  },
  {
   "cell_type": "code",
   "execution_count": 6,
   "metadata": {},
   "outputs": [
    {
     "data": {
      "text/plain": [
       "(139, 15)"
      ]
     },
     "execution_count": 6,
     "metadata": {},
     "output_type": "execute_result"
    }
   ],
   "source": [
    "data.shape"
   ]
  },
  {
   "cell_type": "code",
   "execution_count": 7,
   "metadata": {
    "collapsed": true
   },
   "outputs": [],
   "source": [
    "data=data.drop([\"Region_Middle East & North Africa\"],1)"
   ]
  },
  {
   "cell_type": "code",
   "execution_count": 8,
   "metadata": {},
   "outputs": [
    {
     "data": {
      "text/plain": [
       "(139, 14)"
      ]
     },
     "execution_count": 8,
     "metadata": {},
     "output_type": "execute_result"
    }
   ],
   "source": [
    "data.shape"
   ]
  },
  {
   "cell_type": "markdown",
   "metadata": {},
   "source": [
    "## K-Nearest Neighbors (Regression)"
   ]
  },
  {
   "cell_type": "code",
   "execution_count": 9,
   "metadata": {
    "collapsed": true
   },
   "outputs": [],
   "source": [
    "df1=data"
   ]
  },
  {
   "cell_type": "code",
   "execution_count": 10,
   "metadata": {
    "collapsed": true
   },
   "outputs": [],
   "source": [
    "cols=list(df1)"
   ]
  },
  {
   "cell_type": "code",
   "execution_count": 11,
   "metadata": {
    "collapsed": true
   },
   "outputs": [],
   "source": [
    "scaler=MinMaxScaler()"
   ]
  },
  {
   "cell_type": "code",
   "execution_count": 12,
   "metadata": {
    "collapsed": true
   },
   "outputs": [],
   "source": [
    "df1=pd.DataFrame(scaler.fit_transform(df1))"
   ]
  },
  {
   "cell_type": "code",
   "execution_count": 13,
   "metadata": {
    "collapsed": true
   },
   "outputs": [],
   "source": [
    "df1.columns=cols"
   ]
  },
  {
   "cell_type": "code",
   "execution_count": 14,
   "metadata": {},
   "outputs": [
    {
     "data": {
      "text/html": [
       "<div>\n",
       "<style>\n",
       "    .dataframe thead tr:only-child th {\n",
       "        text-align: right;\n",
       "    }\n",
       "\n",
       "    .dataframe thead th {\n",
       "        text-align: left;\n",
       "    }\n",
       "\n",
       "    .dataframe tbody tr th {\n",
       "        vertical-align: top;\n",
       "    }\n",
       "</style>\n",
       "<table border=\"1\" class=\"dataframe\">\n",
       "  <thead>\n",
       "    <tr style=\"text-align: right;\">\n",
       "      <th></th>\n",
       "      <th>population</th>\n",
       "      <th>fertility</th>\n",
       "      <th>HIV</th>\n",
       "      <th>CO2</th>\n",
       "      <th>BMI_male</th>\n",
       "      <th>GDP</th>\n",
       "      <th>BMI_female</th>\n",
       "      <th>life</th>\n",
       "      <th>child_mortality</th>\n",
       "      <th>Region_America</th>\n",
       "      <th>Region_East Asia &amp; Pacific</th>\n",
       "      <th>Region_Europe &amp; Central Asia</th>\n",
       "      <th>Region_South Asia</th>\n",
       "      <th>Region_Sub-Saharan Africa</th>\n",
       "    </tr>\n",
       "  </thead>\n",
       "  <tbody>\n",
       "    <tr>\n",
       "      <th>0</th>\n",
       "      <td>0.028855</td>\n",
       "      <td>0.229794</td>\n",
       "      <td>0.001548</td>\n",
       "      <td>0.068188</td>\n",
       "      <td>0.520969</td>\n",
       "      <td>0.093443</td>\n",
       "      <td>0.691602</td>\n",
       "      <td>0.804813</td>\n",
       "      <td>0.141574</td>\n",
       "      <td>0.0</td>\n",
       "      <td>0.0</td>\n",
       "      <td>0.0</td>\n",
       "      <td>0.0</td>\n",
       "      <td>0.0</td>\n",
       "    </tr>\n",
       "    <tr>\n",
       "      <th>1</th>\n",
       "      <td>0.016348</td>\n",
       "      <td>0.816165</td>\n",
       "      <td>0.075077</td>\n",
       "      <td>0.030101</td>\n",
       "      <td>0.229964</td>\n",
       "      <td>0.051917</td>\n",
       "      <td>0.703734</td>\n",
       "      <td>0.350267</td>\n",
       "      <td>1.000000</td>\n",
       "      <td>0.0</td>\n",
       "      <td>0.0</td>\n",
       "      <td>0.0</td>\n",
       "      <td>0.0</td>\n",
       "      <td>1.0</td>\n",
       "    </tr>\n",
       "    <tr>\n",
       "      <th>2</th>\n",
       "      <td>0.033510</td>\n",
       "      <td>0.152139</td>\n",
       "      <td>0.017028</td>\n",
       "      <td>0.098094</td>\n",
       "      <td>0.881472</td>\n",
       "      <td>0.112027</td>\n",
       "      <td>0.083681</td>\n",
       "      <td>0.810160</td>\n",
       "      <td>0.067089</td>\n",
       "      <td>1.0</td>\n",
       "      <td>0.0</td>\n",
       "      <td>0.0</td>\n",
       "      <td>0.0</td>\n",
       "      <td>0.0</td>\n",
       "    </tr>\n",
       "    <tr>\n",
       "      <th>3</th>\n",
       "      <td>0.002254</td>\n",
       "      <td>0.019017</td>\n",
       "      <td>0.001548</td>\n",
       "      <td>0.036873</td>\n",
       "      <td>0.615170</td>\n",
       "      <td>0.054149</td>\n",
       "      <td>0.852002</td>\n",
       "      <td>0.729947</td>\n",
       "      <td>0.091389</td>\n",
       "      <td>0.0</td>\n",
       "      <td>0.0</td>\n",
       "      <td>1.0</td>\n",
       "      <td>0.0</td>\n",
       "      <td>0.0</td>\n",
       "    </tr>\n",
       "    <tr>\n",
       "      <th>4</th>\n",
       "      <td>0.017625</td>\n",
       "      <td>0.107765</td>\n",
       "      <td>0.001548</td>\n",
       "      <td>0.369818</td>\n",
       "      <td>0.889169</td>\n",
       "      <td>0.324525</td>\n",
       "      <td>0.000000</td>\n",
       "      <td>0.970588</td>\n",
       "      <td>0.013207</td>\n",
       "      <td>0.0</td>\n",
       "      <td>1.0</td>\n",
       "      <td>0.0</td>\n",
       "      <td>0.0</td>\n",
       "      <td>0.0</td>\n",
       "    </tr>\n",
       "  </tbody>\n",
       "</table>\n",
       "</div>"
      ],
      "text/plain": [
       "   population  fertility       HIV       CO2  BMI_male       GDP  BMI_female  \\\n",
       "0    0.028855   0.229794  0.001548  0.068188  0.520969  0.093443    0.691602   \n",
       "1    0.016348   0.816165  0.075077  0.030101  0.229964  0.051917    0.703734   \n",
       "2    0.033510   0.152139  0.017028  0.098094  0.881472  0.112027    0.083681   \n",
       "3    0.002254   0.019017  0.001548  0.036873  0.615170  0.054149    0.852002   \n",
       "4    0.017625   0.107765  0.001548  0.369818  0.889169  0.324525    0.000000   \n",
       "\n",
       "       life  child_mortality  Region_America  Region_East Asia & Pacific  \\\n",
       "0  0.804813         0.141574             0.0                         0.0   \n",
       "1  0.350267         1.000000             0.0                         0.0   \n",
       "2  0.810160         0.067089             1.0                         0.0   \n",
       "3  0.729947         0.091389             0.0                         0.0   \n",
       "4  0.970588         0.013207             0.0                         1.0   \n",
       "\n",
       "   Region_Europe & Central Asia  Region_South Asia  Region_Sub-Saharan Africa  \n",
       "0                           0.0                0.0                        0.0  \n",
       "1                           0.0                0.0                        1.0  \n",
       "2                           0.0                0.0                        0.0  \n",
       "3                           1.0                0.0                        0.0  \n",
       "4                           0.0                0.0                        0.0  "
      ]
     },
     "execution_count": 14,
     "metadata": {},
     "output_type": "execute_result"
    }
   ],
   "source": [
    "df1.head()"
   ]
  },
  {
   "cell_type": "code",
   "execution_count": 15,
   "metadata": {
    "collapsed": true
   },
   "outputs": [],
   "source": [
    "X=df1.drop([\"life\"],1)\n",
    "y=df[\"life\"]"
   ]
  },
  {
   "cell_type": "code",
   "execution_count": 16,
   "metadata": {
    "collapsed": true
   },
   "outputs": [],
   "source": [
    "X_train,X_test,y_train,y_test=tts(X,y,test_size=0.3,random_state=42)"
   ]
  },
  {
   "cell_type": "code",
   "execution_count": 17,
   "metadata": {
    "collapsed": true
   },
   "outputs": [],
   "source": [
    "knn=KNeighborsRegressor()"
   ]
  },
  {
   "cell_type": "code",
   "execution_count": 18,
   "metadata": {},
   "outputs": [
    {
     "data": {
      "text/plain": [
       "KNeighborsRegressor(algorithm='auto', leaf_size=30, metric='minkowski',\n",
       "          metric_params=None, n_jobs=1, n_neighbors=5, p=2,\n",
       "          weights='uniform')"
      ]
     },
     "execution_count": 18,
     "metadata": {},
     "output_type": "execute_result"
    }
   ],
   "source": [
    "knn.fit(X_train,y_train)"
   ]
  },
  {
   "cell_type": "code",
   "execution_count": 19,
   "metadata": {
    "collapsed": true
   },
   "outputs": [],
   "source": [
    "y_pred=knn.predict(X_test)"
   ]
  },
  {
   "cell_type": "code",
   "execution_count": 20,
   "metadata": {
    "collapsed": true
   },
   "outputs": [],
   "source": [
    "r2=r2_score(y_test,y_pred)\n",
    "mae=mean_absolute_error(y_test,y_pred)\n",
    "mse=mean_squared_error(y_test,y_pred)\n",
    "rmse=math.sqrt(mse)\n",
    "n=df.shape[0]\n",
    "k=(df.shape[1]-1)\n",
    "ar2=1-((1-r2)*((n-1)/(n-(k+1))))"
   ]
  },
  {
   "cell_type": "code",
   "execution_count": 21,
   "metadata": {},
   "outputs": [
    {
     "name": "stdout",
     "output_type": "stream",
     "text": [
      "R-square:  0.747278876437\n",
      "Adjusted R-Square:  0.729647170142\n",
      "Mean Absolute Error:  2.93333333333\n",
      "Mean Squared Error:  16.4580190476\n",
      "Root Mean Squared Error:  4.056848413192075\n"
     ]
    }
   ],
   "source": [
    "print(\"R-square: \",r2)\n",
    "print(\"Adjusted R-Square: \",ar2)\n",
    "print(\"Mean Absolute Error: \",mae)\n",
    "print(\"Mean Squared Error: \",mse)\n",
    "print(\"Root Mean Squared Error: \",rmse)"
   ]
  },
  {
   "cell_type": "code",
   "execution_count": 22,
   "metadata": {
    "collapsed": true
   },
   "outputs": [],
   "source": [
    "r2=[]\n",
    "for i in range(3,12):\n",
    "    knn=KNeighborsRegressor(n_neighbors=i)\n",
    "    knn.fit(X_train,y_train)\n",
    "    y_pred=knn.predict(X_test)\n",
    "    r2.append(r2_score(y_test,y_pred))"
   ]
  },
  {
   "cell_type": "code",
   "execution_count": 23,
   "metadata": {},
   "outputs": [
    {
     "data": {
      "image/png": "[encoded data removed]",
      "text/plain": [
       "<matplotlib.figure.Figure at 0x1fad32a8a58>"
      ]
     },
     "metadata": {},
     "output_type": "display_data"
    }
   ],
   "source": [
    "import matplotlib.pyplot as plt\n",
    "x=np.arange(3,12)\n",
    "plt.plot(x,r2)\n",
    "plt.xlabel(\"Number of Nearest Neighbors\")\n",
    "plt.ylabel(\"R squared value\")\n",
    "plt.show()"
   ]
  },
  {
   "cell_type": "code",
   "execution_count": 24,
   "metadata": {
    "collapsed": true
   },
   "outputs": [],
   "source": [
    "y_pred=list(y_pred)\n",
    "y_test=list(y_test)\n",
    "tuples=list(zip(y_test,y_pred))"
   ]
  },
  {
   "cell_type": "code",
   "execution_count": 25,
   "metadata": {},
   "outputs": [
    {
     "data": {
      "text/html": [
       "<div>\n",
       "<style>\n",
       "    .dataframe thead tr:only-child th {\n",
       "        text-align: right;\n",
       "    }\n",
       "\n",
       "    .dataframe thead th {\n",
       "        text-align: left;\n",
       "    }\n",
       "\n",
       "    .dataframe tbody tr th {\n",
       "        vertical-align: top;\n",
       "    }\n",
       "</style>\n",
       "<table border=\"1\" class=\"dataframe\">\n",
       "  <thead>\n",
       "    <tr style=\"text-align: right;\">\n",
       "      <th></th>\n",
       "      <th>Actual</th>\n",
       "      <th>Predicted</th>\n",
       "    </tr>\n",
       "  </thead>\n",
       "  <tbody>\n",
       "    <tr>\n",
       "      <th>0</th>\n",
       "      <td>68.7</td>\n",
       "      <td>75.154545</td>\n",
       "    </tr>\n",
       "    <tr>\n",
       "      <th>1</th>\n",
       "      <td>66.1</td>\n",
       "      <td>73.872727</td>\n",
       "    </tr>\n",
       "    <tr>\n",
       "      <th>2</th>\n",
       "      <td>76.5</td>\n",
       "      <td>72.690909</td>\n",
       "    </tr>\n",
       "    <tr>\n",
       "      <th>3</th>\n",
       "      <td>67.4</td>\n",
       "      <td>60.245455</td>\n",
       "    </tr>\n",
       "    <tr>\n",
       "      <th>4</th>\n",
       "      <td>79.4</td>\n",
       "      <td>79.600000</td>\n",
       "    </tr>\n",
       "  </tbody>\n",
       "</table>\n",
       "</div>"
      ],
      "text/plain": [
       "   Actual  Predicted\n",
       "0    68.7  75.154545\n",
       "1    66.1  73.872727\n",
       "2    76.5  72.690909\n",
       "3    67.4  60.245455\n",
       "4    79.4  79.600000"
      ]
     },
     "execution_count": 25,
     "metadata": {},
     "output_type": "execute_result"
    }
   ],
   "source": [
    "pd.DataFrame(tuples,columns=[\"Actual\",\"Predicted\"]).head()"
   ]
  },
  {
   "cell_type": "markdown",
   "metadata": {},
   "source": [
    "## K-Nearest Neighbors (Classification)"
   ]
  },
  {
   "cell_type": "markdown",
   "metadata": {},
   "source": [
    "## Why one hot encoding is not correct for classification\n",
    "Now region is an output feature where every region is seperate category (label) and there is no interdependency among them so each of them can be labeled seperately without giving each of them equal weightage."
   ]
  },
  {
   "cell_type": "code",
   "execution_count": 26,
   "metadata": {
    "collapsed": true
   },
   "outputs": [],
   "source": [
    "data1=df"
   ]
  },
  {
   "cell_type": "code",
   "execution_count": 27,
   "metadata": {},
   "outputs": [
    {
     "name": "stdout",
     "output_type": "stream",
     "text": [
      "{0: 'America', 1: 'East Asia & Pacific', 2: 'Europe & Central Asia', 3: 'Middle East & North Africa', 4: 'South Asia', 5: 'Sub-Saharan Africa'}\n"
     ]
    }
   ],
   "source": [
    "data1[\"Region\"]=data1[\"Region\"].astype(\"category\")\n",
    "d=dict(enumerate(data1[\"Region\"].cat.categories))\n",
    "data1[\"Region\"]=data1[\"Region\"].cat.codes\n",
    "print(d)"
   ]
  },
  {
   "cell_type": "code",
   "execution_count": 28,
   "metadata": {
    "collapsed": true
   },
   "outputs": [],
   "source": [
    "column=list(data1)"
   ]
  },
  {
   "cell_type": "code",
   "execution_count": 29,
   "metadata": {
    "collapsed": true
   },
   "outputs": [],
   "source": [
    "data1=pd.DataFrame(scaler.fit_transform(data1))"
   ]
  },
  {
   "cell_type": "code",
   "execution_count": 30,
   "metadata": {
    "collapsed": true
   },
   "outputs": [],
   "source": [
    "data1.columns=column"
   ]
  },
  {
   "cell_type": "code",
   "execution_count": 31,
   "metadata": {
    "collapsed": true
   },
   "outputs": [],
   "source": [
    "Xc=data1.drop([\"Region\"],1)\n",
    "yc=df[\"Region\"]"
   ]
  },
  {
   "cell_type": "code",
   "execution_count": 32,
   "metadata": {
    "collapsed": true
   },
   "outputs": [],
   "source": [
    "Xc_train,Xc_test,yc_train,yc_test=tts(Xc,yc,test_size=0.3,random_state=42)"
   ]
  },
  {
   "cell_type": "code",
   "execution_count": 33,
   "metadata": {
    "collapsed": true
   },
   "outputs": [],
   "source": [
    "knnc=KNeighborsClassifier()"
   ]
  },
  {
   "cell_type": "code",
   "execution_count": 34,
   "metadata": {},
   "outputs": [
    {
     "data": {
      "text/html": [
       "<div>\n",
       "<style>\n",
       "    .dataframe thead tr:only-child th {\n",
       "        text-align: right;\n",
       "    }\n",
       "\n",
       "    .dataframe thead th {\n",
       "        text-align: left;\n",
       "    }\n",
       "\n",
       "    .dataframe tbody tr th {\n",
       "        vertical-align: top;\n",
       "    }\n",
       "</style>\n",
       "<table border=\"1\" class=\"dataframe\">\n",
       "  <thead>\n",
       "    <tr style=\"text-align: right;\">\n",
       "      <th></th>\n",
       "      <th>population</th>\n",
       "      <th>fertility</th>\n",
       "      <th>HIV</th>\n",
       "      <th>CO2</th>\n",
       "      <th>BMI_male</th>\n",
       "      <th>GDP</th>\n",
       "      <th>BMI_female</th>\n",
       "      <th>life</th>\n",
       "      <th>child_mortality</th>\n",
       "      <th>Region</th>\n",
       "    </tr>\n",
       "  </thead>\n",
       "  <tbody>\n",
       "    <tr>\n",
       "      <th>0</th>\n",
       "      <td>0.028855</td>\n",
       "      <td>0.229794</td>\n",
       "      <td>0.001548</td>\n",
       "      <td>0.068188</td>\n",
       "      <td>0.520969</td>\n",
       "      <td>0.093443</td>\n",
       "      <td>0.691602</td>\n",
       "      <td>0.804813</td>\n",
       "      <td>0.141574</td>\n",
       "      <td>0.6</td>\n",
       "    </tr>\n",
       "    <tr>\n",
       "      <th>1</th>\n",
       "      <td>0.016348</td>\n",
       "      <td>0.816165</td>\n",
       "      <td>0.075077</td>\n",
       "      <td>0.030101</td>\n",
       "      <td>0.229964</td>\n",
       "      <td>0.051917</td>\n",
       "      <td>0.703734</td>\n",
       "      <td>0.350267</td>\n",
       "      <td>1.000000</td>\n",
       "      <td>1.0</td>\n",
       "    </tr>\n",
       "    <tr>\n",
       "      <th>2</th>\n",
       "      <td>0.033510</td>\n",
       "      <td>0.152139</td>\n",
       "      <td>0.017028</td>\n",
       "      <td>0.098094</td>\n",
       "      <td>0.881472</td>\n",
       "      <td>0.112027</td>\n",
       "      <td>0.083681</td>\n",
       "      <td>0.810160</td>\n",
       "      <td>0.067089</td>\n",
       "      <td>0.0</td>\n",
       "    </tr>\n",
       "    <tr>\n",
       "      <th>3</th>\n",
       "      <td>0.002254</td>\n",
       "      <td>0.019017</td>\n",
       "      <td>0.001548</td>\n",
       "      <td>0.036873</td>\n",
       "      <td>0.615170</td>\n",
       "      <td>0.054149</td>\n",
       "      <td>0.852002</td>\n",
       "      <td>0.729947</td>\n",
       "      <td>0.091389</td>\n",
       "      <td>0.4</td>\n",
       "    </tr>\n",
       "    <tr>\n",
       "      <th>4</th>\n",
       "      <td>0.017625</td>\n",
       "      <td>0.107765</td>\n",
       "      <td>0.001548</td>\n",
       "      <td>0.369818</td>\n",
       "      <td>0.889169</td>\n",
       "      <td>0.324525</td>\n",
       "      <td>0.000000</td>\n",
       "      <td>0.970588</td>\n",
       "      <td>0.013207</td>\n",
       "      <td>0.2</td>\n",
       "    </tr>\n",
       "  </tbody>\n",
       "</table>\n",
       "</div>"
      ],
      "text/plain": [
       "   population  fertility       HIV       CO2  BMI_male       GDP  BMI_female  \\\n",
       "0    0.028855   0.229794  0.001548  0.068188  0.520969  0.093443    0.691602   \n",
       "1    0.016348   0.816165  0.075077  0.030101  0.229964  0.051917    0.703734   \n",
       "2    0.033510   0.152139  0.017028  0.098094  0.881472  0.112027    0.083681   \n",
       "3    0.002254   0.019017  0.001548  0.036873  0.615170  0.054149    0.852002   \n",
       "4    0.017625   0.107765  0.001548  0.369818  0.889169  0.324525    0.000000   \n",
       "\n",
       "       life  child_mortality  Region  \n",
       "0  0.804813         0.141574     0.6  \n",
       "1  0.350267         1.000000     1.0  \n",
       "2  0.810160         0.067089     0.0  \n",
       "3  0.729947         0.091389     0.4  \n",
       "4  0.970588         0.013207     0.2  "
      ]
     },
     "execution_count": 34,
     "metadata": {},
     "output_type": "execute_result"
    }
   ],
   "source": [
    "data1.head()"
   ]
  },
  {
   "cell_type": "code",
   "execution_count": 35,
   "metadata": {},
   "outputs": [
    {
     "data": {
      "text/plain": [
       "KNeighborsClassifier(algorithm='auto', leaf_size=30, metric='minkowski',\n",
       "           metric_params=None, n_jobs=1, n_neighbors=5, p=2,\n",
       "           weights='uniform')"
      ]
     },
     "execution_count": 35,
     "metadata": {},
     "output_type": "execute_result"
    }
   ],
   "source": [
    "knnc.fit(Xc_train,yc_train)"
   ]
  },
  {
   "cell_type": "code",
   "execution_count": 36,
   "metadata": {
    "collapsed": true
   },
   "outputs": [],
   "source": [
    "yc_pred=knnc.predict(Xc_test)"
   ]
  },
  {
   "cell_type": "code",
   "execution_count": 37,
   "metadata": {},
   "outputs": [
    {
     "data": {
      "text/plain": [
       "0.76190476190476186"
      ]
     },
     "execution_count": 37,
     "metadata": {},
     "output_type": "execute_result"
    }
   ],
   "source": [
    "accuracy_score(yc_test,yc_pred)"
   ]
  },
  {
   "cell_type": "code",
   "execution_count": 38,
   "metadata": {
    "collapsed": true
   },
   "outputs": [],
   "source": [
    "accuracy=[]\n",
    "for i in range(3,12):\n",
    "    knn=KNeighborsClassifier(n_neighbors=i)\n",
    "    knn.fit(Xc_train,yc_train)\n",
    "    yc_pred=knn.predict(Xc_test)\n",
    "    accuracy.append(accuracy_score(yc_test,yc_pred))"
   ]
  },
  {
   "cell_type": "code",
   "execution_count": 39,
   "metadata": {},
   "outputs": [
    {
     "data": {
      "image/png": "[encoded data removed]",
      "text/plain": [
       "<matplotlib.figure.Figure at 0x1fad3369f98>"
      ]
     },
     "metadata": {},
     "output_type": "display_data"
    }
   ],
   "source": [
    "import matplotlib.pyplot as plt\n",
    "x=np.arange(3,12)\n",
    "plt.plot(x,accuracy)\n",
    "plt.xlabel(\"Number of Nearest Neighbors\")\n",
    "plt.ylabel(\"Accuracy Score\")\n",
    "plt.show()"
   ]
  },
  {
   "cell_type": "code",
   "execution_count": 40,
   "metadata": {
    "collapsed": true
   },
   "outputs": [],
   "source": [
    "yc_pred=list(yc_pred)\n",
    "yc_test=list(yc_test)"
   ]
  },
  {
   "cell_type": "code",
   "execution_count": 41,
   "metadata": {
    "collapsed": true
   },
   "outputs": [],
   "source": [
    "result=list(zip(yc_test,yc_pred))"
   ]
  },
  {
   "cell_type": "code",
   "execution_count": 42,
   "metadata": {},
   "outputs": [
    {
     "data": {
      "text/html": [
       "<div>\n",
       "<style>\n",
       "    .dataframe thead tr:only-child th {\n",
       "        text-align: right;\n",
       "    }\n",
       "\n",
       "    .dataframe thead th {\n",
       "        text-align: left;\n",
       "    }\n",
       "\n",
       "    .dataframe tbody tr th {\n",
       "        vertical-align: top;\n",
       "    }\n",
       "</style>\n",
       "<table border=\"1\" class=\"dataframe\">\n",
       "  <thead>\n",
       "    <tr style=\"text-align: right;\">\n",
       "      <th></th>\n",
       "      <th>Actual</th>\n",
       "      <th>Predicted</th>\n",
       "    </tr>\n",
       "  </thead>\n",
       "  <tbody>\n",
       "    <tr>\n",
       "      <th>0</th>\n",
       "      <td>2</td>\n",
       "      <td>0</td>\n",
       "    </tr>\n",
       "    <tr>\n",
       "      <th>1</th>\n",
       "      <td>2</td>\n",
       "      <td>2</td>\n",
       "    </tr>\n",
       "    <tr>\n",
       "      <th>2</th>\n",
       "      <td>2</td>\n",
       "      <td>2</td>\n",
       "    </tr>\n",
       "    <tr>\n",
       "      <th>3</th>\n",
       "      <td>5</td>\n",
       "      <td>5</td>\n",
       "    </tr>\n",
       "    <tr>\n",
       "      <th>4</th>\n",
       "      <td>2</td>\n",
       "      <td>2</td>\n",
       "    </tr>\n",
       "  </tbody>\n",
       "</table>\n",
       "</div>"
      ],
      "text/plain": [
       "   Actual  Predicted\n",
       "0       2          0\n",
       "1       2          2\n",
       "2       2          2\n",
       "3       5          5\n",
       "4       2          2"
      ]
     },
     "execution_count": 42,
     "metadata": {},
     "output_type": "execute_result"
    }
   ],
   "source": [
    "pd.DataFrame(result,columns=[\"Actual\",\"Predicted\"]).head()"
   ]
  },
  {
   "cell_type": "markdown",
   "metadata": {},
   "source": [
    "## Linear Regression (using Correlation Heatmap)"
   ]
  },
  {
   "cell_type": "markdown",
   "metadata": {},
   "source": [
    "5 Assumptions of Linear Regression:\n",
    "\n",
    "1) Linear Relation: Every Independent variable must have high linear relationship with output variable and also check for outliers as Linear Regression is suseptible to outliers\n",
    "\n",
    "2) No Multicollinearity: There should No or very less collinearity among the independent variables, all independent variables should be strictly and highly corelated to output variable\n",
    "\n",
    "3) No Homoscedacity: residuals are equal across the regression line\n",
    "\n",
    "4) No Autocorrelation: Autocorrelation in simple words is y(x+1) is not independent of y(x). That is Degree of similarities of values of same variable over successive time interval should be less.\n",
    "\n",
    "5) Multivariate Normality: The residuals should be noramlly distributed "
   ]
  },
  {
   "cell_type": "code",
   "execution_count": 43,
   "metadata": {
    "collapsed": true
   },
   "outputs": [],
   "source": [
    "df=pd.read_csv(\"C:\\\\Users\\\\Neel\\\\Desktop\\\\Greyatom Codes\\\\Practice Datasets\\\\gapminder.csv\")"
   ]
  },
  {
   "cell_type": "code",
   "execution_count": 44,
   "metadata": {
    "collapsed": true
   },
   "outputs": [],
   "source": [
    "data2=df1"
   ]
  },
  {
   "cell_type": "code",
   "execution_count": 45,
   "metadata": {},
   "outputs": [
    {
     "data": {
      "text/html": [
       "<div>\n",
       "<style>\n",
       "    .dataframe thead tr:only-child th {\n",
       "        text-align: right;\n",
       "    }\n",
       "\n",
       "    .dataframe thead th {\n",
       "        text-align: left;\n",
       "    }\n",
       "\n",
       "    .dataframe tbody tr th {\n",
       "        vertical-align: top;\n",
       "    }\n",
       "</style>\n",
       "<table border=\"1\" class=\"dataframe\">\n",
       "  <thead>\n",
       "    <tr style=\"text-align: right;\">\n",
       "      <th></th>\n",
       "      <th>population</th>\n",
       "      <th>fertility</th>\n",
       "      <th>HIV</th>\n",
       "      <th>CO2</th>\n",
       "      <th>BMI_male</th>\n",
       "      <th>GDP</th>\n",
       "      <th>BMI_female</th>\n",
       "      <th>life</th>\n",
       "      <th>child_mortality</th>\n",
       "      <th>Region_America</th>\n",
       "      <th>Region_East Asia &amp; Pacific</th>\n",
       "      <th>Region_Europe &amp; Central Asia</th>\n",
       "      <th>Region_South Asia</th>\n",
       "      <th>Region_Sub-Saharan Africa</th>\n",
       "    </tr>\n",
       "  </thead>\n",
       "  <tbody>\n",
       "    <tr>\n",
       "      <th>population</th>\n",
       "      <td>1.000000</td>\n",
       "      <td>-0.061345</td>\n",
       "      <td>-0.065821</td>\n",
       "      <td>-0.010147</td>\n",
       "      <td>-0.134905</td>\n",
       "      <td>-0.045687</td>\n",
       "      <td>-0.135149</td>\n",
       "      <td>-0.005051</td>\n",
       "      <td>0.008058</td>\n",
       "      <td>-0.013131</td>\n",
       "      <td>0.052950</td>\n",
       "      <td>-0.087661</td>\n",
       "      <td>0.394109</td>\n",
       "      <td>-0.109651</td>\n",
       "    </tr>\n",
       "    <tr>\n",
       "      <th>fertility</th>\n",
       "      <td>-0.061345</td>\n",
       "      <td>1.000000</td>\n",
       "      <td>0.292695</td>\n",
       "      <td>-0.439747</td>\n",
       "      <td>-0.715380</td>\n",
       "      <td>-0.502615</td>\n",
       "      <td>0.527314</td>\n",
       "      <td>-0.786921</td>\n",
       "      <td>0.901704</td>\n",
       "      <td>-0.166060</td>\n",
       "      <td>-0.147947</td>\n",
       "      <td>-0.527514</td>\n",
       "      <td>-0.047537</td>\n",
       "      <td>0.843908</td>\n",
       "    </tr>\n",
       "    <tr>\n",
       "      <th>HIV</th>\n",
       "      <td>-0.065821</td>\n",
       "      <td>0.292695</td>\n",
       "      <td>1.000000</td>\n",
       "      <td>-0.165889</td>\n",
       "      <td>-0.308700</td>\n",
       "      <td>-0.208410</td>\n",
       "      <td>0.396680</td>\n",
       "      <td>-0.604749</td>\n",
       "      <td>0.394913</td>\n",
       "      <td>-0.119511</td>\n",
       "      <td>-0.118288</td>\n",
       "      <td>-0.244338</td>\n",
       "      <td>-0.091429</td>\n",
       "      <td>0.529699</td>\n",
       "    </tr>\n",
       "    <tr>\n",
       "      <th>CO2</th>\n",
       "      <td>-0.010147</td>\n",
       "      <td>-0.439747</td>\n",
       "      <td>-0.165889</td>\n",
       "      <td>1.000000</td>\n",
       "      <td>0.581031</td>\n",
       "      <td>0.823099</td>\n",
       "      <td>-0.280813</td>\n",
       "      <td>0.476666</td>\n",
       "      <td>-0.458186</td>\n",
       "      <td>0.011841</td>\n",
       "      <td>-0.004024</td>\n",
       "      <td>0.289134</td>\n",
       "      <td>-0.125772</td>\n",
       "      <td>-0.370605</td>\n",
       "    </tr>\n",
       "    <tr>\n",
       "      <th>BMI_male</th>\n",
       "      <td>-0.134905</td>\n",
       "      <td>-0.715380</td>\n",
       "      <td>-0.308700</td>\n",
       "      <td>0.581031</td>\n",
       "      <td>1.000000</td>\n",
       "      <td>0.625126</td>\n",
       "      <td>-0.447049</td>\n",
       "      <td>0.731559</td>\n",
       "      <td>-0.749691</td>\n",
       "      <td>0.287028</td>\n",
       "      <td>-0.108400</td>\n",
       "      <td>0.521400</td>\n",
       "      <td>-0.297883</td>\n",
       "      <td>-0.655982</td>\n",
       "    </tr>\n",
       "    <tr>\n",
       "      <th>GDP</th>\n",
       "      <td>-0.045687</td>\n",
       "      <td>-0.502615</td>\n",
       "      <td>-0.208410</td>\n",
       "      <td>0.823099</td>\n",
       "      <td>0.625126</td>\n",
       "      <td>1.000000</td>\n",
       "      <td>-0.400740</td>\n",
       "      <td>0.628999</td>\n",
       "      <td>-0.543874</td>\n",
       "      <td>-0.059432</td>\n",
       "      <td>0.015921</td>\n",
       "      <td>0.426041</td>\n",
       "      <td>-0.136921</td>\n",
       "      <td>-0.410489</td>\n",
       "    </tr>\n",
       "    <tr>\n",
       "      <th>BMI_female</th>\n",
       "      <td>-0.135149</td>\n",
       "      <td>0.527314</td>\n",
       "      <td>0.396680</td>\n",
       "      <td>-0.280813</td>\n",
       "      <td>-0.447049</td>\n",
       "      <td>-0.400740</td>\n",
       "      <td>1.000000</td>\n",
       "      <td>-0.658718</td>\n",
       "      <td>0.582053</td>\n",
       "      <td>-0.413930</td>\n",
       "      <td>-0.330121</td>\n",
       "      <td>-0.044888</td>\n",
       "      <td>-0.098710</td>\n",
       "      <td>0.676033</td>\n",
       "    </tr>\n",
       "    <tr>\n",
       "      <th>life</th>\n",
       "      <td>-0.005051</td>\n",
       "      <td>-0.786921</td>\n",
       "      <td>-0.604749</td>\n",
       "      <td>0.476666</td>\n",
       "      <td>0.731559</td>\n",
       "      <td>0.628999</td>\n",
       "      <td>-0.658718</td>\n",
       "      <td>1.000000</td>\n",
       "      <td>-0.874106</td>\n",
       "      <td>0.228923</td>\n",
       "      <td>0.073007</td>\n",
       "      <td>0.457661</td>\n",
       "      <td>-0.005864</td>\n",
       "      <td>-0.795163</td>\n",
       "    </tr>\n",
       "    <tr>\n",
       "      <th>child_mortality</th>\n",
       "      <td>0.008058</td>\n",
       "      <td>0.901704</td>\n",
       "      <td>0.394913</td>\n",
       "      <td>-0.458186</td>\n",
       "      <td>-0.749691</td>\n",
       "      <td>-0.543874</td>\n",
       "      <td>0.582053</td>\n",
       "      <td>-0.874106</td>\n",
       "      <td>1.000000</td>\n",
       "      <td>-0.234225</td>\n",
       "      <td>-0.119082</td>\n",
       "      <td>-0.479644</td>\n",
       "      <td>0.020088</td>\n",
       "      <td>0.825253</td>\n",
       "    </tr>\n",
       "    <tr>\n",
       "      <th>Region_America</th>\n",
       "      <td>-0.013131</td>\n",
       "      <td>-0.166060</td>\n",
       "      <td>-0.119511</td>\n",
       "      <td>0.011841</td>\n",
       "      <td>0.287028</td>\n",
       "      <td>-0.059432</td>\n",
       "      <td>-0.413930</td>\n",
       "      <td>0.228923</td>\n",
       "      <td>-0.234225</td>\n",
       "      <td>1.000000</td>\n",
       "      <td>-0.164317</td>\n",
       "      <td>-0.317579</td>\n",
       "      <td>-0.113067</td>\n",
       "      <td>-0.312094</td>\n",
       "    </tr>\n",
       "    <tr>\n",
       "      <th>Region_East Asia &amp; Pacific</th>\n",
       "      <td>0.052950</td>\n",
       "      <td>-0.147947</td>\n",
       "      <td>-0.118288</td>\n",
       "      <td>-0.004024</td>\n",
       "      <td>-0.108400</td>\n",
       "      <td>0.015921</td>\n",
       "      <td>-0.330121</td>\n",
       "      <td>0.073007</td>\n",
       "      <td>-0.119082</td>\n",
       "      <td>-0.164317</td>\n",
       "      <td>1.000000</td>\n",
       "      <td>-0.216465</td>\n",
       "      <td>-0.077067</td>\n",
       "      <td>-0.212726</td>\n",
       "    </tr>\n",
       "    <tr>\n",
       "      <th>Region_Europe &amp; Central Asia</th>\n",
       "      <td>-0.087661</td>\n",
       "      <td>-0.527514</td>\n",
       "      <td>-0.244338</td>\n",
       "      <td>0.289134</td>\n",
       "      <td>0.521400</td>\n",
       "      <td>0.426041</td>\n",
       "      <td>-0.044888</td>\n",
       "      <td>0.457661</td>\n",
       "      <td>-0.479644</td>\n",
       "      <td>-0.317579</td>\n",
       "      <td>-0.216465</td>\n",
       "      <td>1.000000</td>\n",
       "      <td>-0.148950</td>\n",
       "      <td>-0.411141</td>\n",
       "    </tr>\n",
       "    <tr>\n",
       "      <th>Region_South Asia</th>\n",
       "      <td>0.394109</td>\n",
       "      <td>-0.047537</td>\n",
       "      <td>-0.091429</td>\n",
       "      <td>-0.125772</td>\n",
       "      <td>-0.297883</td>\n",
       "      <td>-0.136921</td>\n",
       "      <td>-0.098710</td>\n",
       "      <td>-0.005864</td>\n",
       "      <td>0.020088</td>\n",
       "      <td>-0.113067</td>\n",
       "      <td>-0.077067</td>\n",
       "      <td>-0.148950</td>\n",
       "      <td>1.000000</td>\n",
       "      <td>-0.146378</td>\n",
       "    </tr>\n",
       "    <tr>\n",
       "      <th>Region_Sub-Saharan Africa</th>\n",
       "      <td>-0.109651</td>\n",
       "      <td>0.843908</td>\n",
       "      <td>0.529699</td>\n",
       "      <td>-0.370605</td>\n",
       "      <td>-0.655982</td>\n",
       "      <td>-0.410489</td>\n",
       "      <td>0.676033</td>\n",
       "      <td>-0.795163</td>\n",
       "      <td>0.825253</td>\n",
       "      <td>-0.312094</td>\n",
       "      <td>-0.212726</td>\n",
       "      <td>-0.411141</td>\n",
       "      <td>-0.146378</td>\n",
       "      <td>1.000000</td>\n",
       "    </tr>\n",
       "  </tbody>\n",
       "</table>\n",
       "</div>"
      ],
      "text/plain": [
       "                              population  fertility       HIV       CO2  \\\n",
       "population                      1.000000  -0.061345 -0.065821 -0.010147   \n",
       "fertility                      -0.061345   1.000000  0.292695 -0.439747   \n",
       "HIV                            -0.065821   0.292695  1.000000 -0.165889   \n",
       "CO2                            -0.010147  -0.439747 -0.165889  1.000000   \n",
       "BMI_male                       -0.134905  -0.715380 -0.308700  0.581031   \n",
       "GDP                            -0.045687  -0.502615 -0.208410  0.823099   \n",
       "BMI_female                     -0.135149   0.527314  0.396680 -0.280813   \n",
       "life                           -0.005051  -0.786921 -0.604749  0.476666   \n",
       "child_mortality                 0.008058   0.901704  0.394913 -0.458186   \n",
       "Region_America                 -0.013131  -0.166060 -0.119511  0.011841   \n",
       "Region_East Asia & Pacific      0.052950  -0.147947 -0.118288 -0.004024   \n",
       "Region_Europe & Central Asia   -0.087661  -0.527514 -0.244338  0.289134   \n",
       "Region_South Asia               0.394109  -0.047537 -0.091429 -0.125772   \n",
       "Region_Sub-Saharan Africa      -0.109651   0.843908  0.529699 -0.370605   \n",
       "\n",
       "                              BMI_male       GDP  BMI_female      life  \\\n",
       "population                   -0.134905 -0.045687   -0.135149 -0.005051   \n",
       "fertility                    -0.715380 -0.502615    0.527314 -0.786921   \n",
       "HIV                          -0.308700 -0.208410    0.396680 -0.604749   \n",
       "CO2                           0.581031  0.823099   -0.280813  0.476666   \n",
       "BMI_male                      1.000000  0.625126   -0.447049  0.731559   \n",
       "GDP                           0.625126  1.000000   -0.400740  0.628999   \n",
       "BMI_female                   -0.447049 -0.400740    1.000000 -0.658718   \n",
       "life                          0.731559  0.628999   -0.658718  1.000000   \n",
       "child_mortality              -0.749691 -0.543874    0.582053 -0.874106   \n",
       "Region_America                0.287028 -0.059432   -0.413930  0.228923   \n",
       "Region_East Asia & Pacific   -0.108400  0.015921   -0.330121  0.073007   \n",
       "Region_Europe & Central Asia  0.521400  0.426041   -0.044888  0.457661   \n",
       "Region_South Asia            -0.297883 -0.136921   -0.098710 -0.005864   \n",
       "Region_Sub-Saharan Africa    -0.655982 -0.410489    0.676033 -0.795163   \n",
       "\n",
       "                              child_mortality  Region_America  \\\n",
       "population                           0.008058       -0.013131   \n",
       "fertility                            0.901704       -0.166060   \n",
       "HIV                                  0.394913       -0.119511   \n",
       "CO2                                 -0.458186        0.011841   \n",
       "BMI_male                            -0.749691        0.287028   \n",
       "GDP                                 -0.543874       -0.059432   \n",
       "BMI_female                           0.582053       -0.413930   \n",
       "life                                -0.874106        0.228923   \n",
       "child_mortality                      1.000000       -0.234225   \n",
       "Region_America                      -0.234225        1.000000   \n",
       "Region_East Asia & Pacific          -0.119082       -0.164317   \n",
       "Region_Europe & Central Asia        -0.479644       -0.317579   \n",
       "Region_South Asia                    0.020088       -0.113067   \n",
       "Region_Sub-Saharan Africa            0.825253       -0.312094   \n",
       "\n",
       "                              Region_East Asia & Pacific  \\\n",
       "population                                      0.052950   \n",
       "fertility                                      -0.147947   \n",
       "HIV                                            -0.118288   \n",
       "CO2                                            -0.004024   \n",
       "BMI_male                                       -0.108400   \n",
       "GDP                                             0.015921   \n",
       "BMI_female                                     -0.330121   \n",
       "life                                            0.073007   \n",
       "child_mortality                                -0.119082   \n",
       "Region_America                                 -0.164317   \n",
       "Region_East Asia & Pacific                      1.000000   \n",
       "Region_Europe & Central Asia                   -0.216465   \n",
       "Region_South Asia                              -0.077067   \n",
       "Region_Sub-Saharan Africa                      -0.212726   \n",
       "\n",
       "                              Region_Europe & Central Asia  Region_South Asia  \\\n",
       "population                                       -0.087661           0.394109   \n",
       "fertility                                        -0.527514          -0.047537   \n",
       "HIV                                              -0.244338          -0.091429   \n",
       "CO2                                               0.289134          -0.125772   \n",
       "BMI_male                                          0.521400          -0.297883   \n",
       "GDP                                               0.426041          -0.136921   \n",
       "BMI_female                                       -0.044888          -0.098710   \n",
       "life                                              0.457661          -0.005864   \n",
       "child_mortality                                  -0.479644           0.020088   \n",
       "Region_America                                   -0.317579          -0.113067   \n",
       "Region_East Asia & Pacific                       -0.216465          -0.077067   \n",
       "Region_Europe & Central Asia                      1.000000          -0.148950   \n",
       "Region_South Asia                                -0.148950           1.000000   \n",
       "Region_Sub-Saharan Africa                        -0.411141          -0.146378   \n",
       "\n",
       "                              Region_Sub-Saharan Africa  \n",
       "population                                    -0.109651  \n",
       "fertility                                      0.843908  \n",
       "HIV                                            0.529699  \n",
       "CO2                                           -0.370605  \n",
       "BMI_male                                      -0.655982  \n",
       "GDP                                           -0.410489  \n",
       "BMI_female                                     0.676033  \n",
       "life                                          -0.795163  \n",
       "child_mortality                                0.825253  \n",
       "Region_America                                -0.312094  \n",
       "Region_East Asia & Pacific                    -0.212726  \n",
       "Region_Europe & Central Asia                  -0.411141  \n",
       "Region_South Asia                             -0.146378  \n",
       "Region_Sub-Saharan Africa                      1.000000  "
      ]
     },
     "execution_count": 45,
     "metadata": {},
     "output_type": "execute_result"
    }
   ],
   "source": [
    "data2.corr()"
   ]
  },
  {
   "cell_type": "code",
   "execution_count": 46,
   "metadata": {},
   "outputs": [
    {
     "data": {
      "image/png": "[encoded data removed]",
      "text/plain": [
       "<matplotlib.figure.Figure at 0x1fad3135be0>"
      ]
     },
     "metadata": {},
     "output_type": "display_data"
    }
   ],
   "source": [
    "plt.figure(figsize=(16,8))\n",
    "sns.heatmap(data2.corr(),annot=True)\n",
    "plt.show()"
   ]
  },
  {
   "cell_type": "code",
   "execution_count": 47,
   "metadata": {
    "collapsed": true
   },
   "outputs": [],
   "source": [
    "XL=data2[[\"GDP\",\"child_mortality\",\"HIV\"]]\n",
    "yL=df[\"life\"]"
   ]
  },
  {
   "cell_type": "code",
   "execution_count": 48,
   "metadata": {
    "collapsed": true
   },
   "outputs": [],
   "source": [
    "XL_train,XL_test,yL_train,yL_test=tts(XL,yL,test_size=0.3,random_state=0)"
   ]
  },
  {
   "cell_type": "code",
   "execution_count": 49,
   "metadata": {
    "collapsed": true
   },
   "outputs": [],
   "source": [
    "linreg=LinearRegression()"
   ]
  },
  {
   "cell_type": "code",
   "execution_count": 50,
   "metadata": {},
   "outputs": [
    {
     "data": {
      "text/plain": [
       "LinearRegression(copy_X=True, fit_intercept=True, n_jobs=1, normalize=False)"
      ]
     },
     "execution_count": 50,
     "metadata": {},
     "output_type": "execute_result"
    }
   ],
   "source": [
    "linreg.fit(XL_train,yL_train)"
   ]
  },
  {
   "cell_type": "code",
   "execution_count": 51,
   "metadata": {
    "collapsed": true
   },
   "outputs": [],
   "source": [
    "yL_pred=linreg.predict(XL_test)"
   ]
  },
  {
   "cell_type": "code",
   "execution_count": 52,
   "metadata": {
    "collapsed": true
   },
   "outputs": [],
   "source": [
    "rL2=r2_score(yL_test,yL_pred)\n",
    "maeL=mean_absolute_error(yL_test,yL_pred)\n",
    "mseL=mean_squared_error(yL_test,yL_pred)\n",
    "rmseL=math.sqrt(mseL)\n",
    "ar2L=1-((1-rL2)*((n-1)/(n-(k+1))))"
   ]
  },
  {
   "cell_type": "code",
   "execution_count": 53,
   "metadata": {},
   "outputs": [
    {
     "name": "stdout",
     "output_type": "stream",
     "text": [
      "R-square:  0.809697249695\n",
      "Adjusted R-Square:  0.796420313628\n",
      "Mean Absolute Error:  2.78631975083\n",
      "Mean Squared Error:  14.1214447143\n",
      "Root Mean Squared Error:  3.7578510766555024\n"
     ]
    }
   ],
   "source": [
    "print(\"R-square: \",rL2)\n",
    "print(\"Adjusted R-Square: \",ar2L)\n",
    "print(\"Mean Absolute Error: \",maeL)\n",
    "print(\"Mean Squared Error: \",mseL)\n",
    "print(\"Root Mean Squared Error: \",rmseL)"
   ]
  },
  {
   "cell_type": "markdown",
   "metadata": {},
   "source": [
    "## Linear Regression (Using Backward Elimination)"
   ]
  },
  {
   "cell_type": "code",
   "execution_count": 54,
   "metadata": {
    "collapsed": true
   },
   "outputs": [],
   "source": [
    "X_for_OLS=data2.drop([\"life\"],1)\n",
    "y_for_OLS=df[\"life\"]"
   ]
  },
  {
   "cell_type": "code",
   "execution_count": 55,
   "metadata": {
    "collapsed": true
   },
   "outputs": [],
   "source": [
    "X_for_OLS=sm.add_constant(X_for_OLS)"
   ]
  },
  {
   "cell_type": "code",
   "execution_count": 56,
   "metadata": {},
   "outputs": [
    {
     "data": {
      "text/html": [
       "<table class=\"simpletable\">\n",
       "<caption>OLS Regression Results</caption>\n",
       "<tr>\n",
       "  <th>Dep. Variable:</th>          <td>life</td>       <th>  R-squared:         </th> <td>   0.905</td>\n",
       "</tr>\n",
       "<tr>\n",
       "  <th>Model:</th>                   <td>OLS</td>       <th>  Adj. R-squared:    </th> <td>   0.895</td>\n",
       "</tr>\n",
       "<tr>\n",
       "  <th>Method:</th>             <td>Least Squares</td>  <th>  F-statistic:       </th> <td>   91.86</td>\n",
       "</tr>\n",
       "<tr>\n",
       "  <th>Date:</th>             <td>Sat, 27 Jul 2019</td> <th>  Prob (F-statistic):</th> <td>2.21e-57</td>\n",
       "</tr>\n",
       "<tr>\n",
       "  <th>Time:</th>                 <td>00:20:13</td>     <th>  Log-Likelihood:    </th> <td> -340.25</td>\n",
       "</tr>\n",
       "<tr>\n",
       "  <th>No. Observations:</th>      <td>   139</td>      <th>  AIC:               </th> <td>   708.5</td>\n",
       "</tr>\n",
       "<tr>\n",
       "  <th>Df Residuals:</th>          <td>   125</td>      <th>  BIC:               </th> <td>   749.6</td>\n",
       "</tr>\n",
       "<tr>\n",
       "  <th>Df Model:</th>              <td>    13</td>      <th>                     </th>     <td> </td>   \n",
       "</tr>\n",
       "<tr>\n",
       "  <th>Covariance Type:</th>      <td>nonrobust</td>    <th>                     </th>     <td> </td>   \n",
       "</tr>\n",
       "</table>\n",
       "<table class=\"simpletable\">\n",
       "<tr>\n",
       "                <td></td>                  <th>coef</th>     <th>std err</th>      <th>t</th>      <th>P>|t|</th>  <th>[0.025</th>    <th>0.975]</th>  \n",
       "</tr>\n",
       "<tr>\n",
       "  <th>const</th>                        <td>   78.7979</td> <td>    2.123</td> <td>   37.112</td> <td> 0.000</td> <td>   74.596</td> <td>   83.000</td>\n",
       "</tr>\n",
       "<tr>\n",
       "  <th>population</th>                   <td>   -2.5418</td> <td>    3.052</td> <td>   -0.833</td> <td> 0.407</td> <td>   -8.583</td> <td>    3.499</td>\n",
       "</tr>\n",
       "<tr>\n",
       "  <th>fertility</th>                    <td>   -5.9609</td> <td>    2.958</td> <td>   -2.015</td> <td> 0.046</td> <td>  -11.815</td> <td>   -0.107</td>\n",
       "</tr>\n",
       "<tr>\n",
       "  <th>HIV</th>                          <td>  -16.5446</td> <td>    1.930</td> <td>   -8.574</td> <td> 0.000</td> <td>  -20.363</td> <td>  -12.726</td>\n",
       "</tr>\n",
       "<tr>\n",
       "  <th>CO2</th>                          <td>  -10.2351</td> <td>    3.695</td> <td>   -2.770</td> <td> 0.006</td> <td>  -17.549</td> <td>   -2.921</td>\n",
       "</tr>\n",
       "<tr>\n",
       "  <th>BMI_male</th>                     <td>    1.1335</td> <td>    2.019</td> <td>    0.562</td> <td> 0.575</td> <td>   -2.861</td> <td>    5.128</td>\n",
       "</tr>\n",
       "<tr>\n",
       "  <th>GDP</th>                          <td>   17.5278</td> <td>    3.528</td> <td>    4.968</td> <td> 0.000</td> <td>   10.545</td> <td>   24.510</td>\n",
       "</tr>\n",
       "<tr>\n",
       "  <th>BMI_female</th>                   <td>   -6.1496</td> <td>    1.775</td> <td>   -3.465</td> <td> 0.001</td> <td>   -9.662</td> <td>   -2.637</td>\n",
       "</tr>\n",
       "<tr>\n",
       "  <th>child_mortality</th>              <td>  -16.9211</td> <td>    2.791</td> <td>   -6.064</td> <td> 0.000</td> <td>  -22.444</td> <td>  -11.398</td>\n",
       "</tr>\n",
       "<tr>\n",
       "  <th>Region_America</th>               <td>   -1.2584</td> <td>    1.201</td> <td>   -1.048</td> <td> 0.297</td> <td>   -3.634</td> <td>    1.118</td>\n",
       "</tr>\n",
       "<tr>\n",
       "  <th>Region_East Asia & Pacific</th>   <td>   -3.8781</td> <td>    1.414</td> <td>   -2.742</td> <td> 0.007</td> <td>   -6.677</td> <td>   -1.079</td>\n",
       "</tr>\n",
       "<tr>\n",
       "  <th>Region_Europe & Central Asia</th> <td>   -1.6986</td> <td>    1.108</td> <td>   -1.534</td> <td> 0.128</td> <td>   -3.891</td> <td>    0.493</td>\n",
       "</tr>\n",
       "<tr>\n",
       "  <th>Region_South Asia</th>            <td>   -1.5331</td> <td>    1.802</td> <td>   -0.851</td> <td> 0.396</td> <td>   -5.099</td> <td>    2.033</td>\n",
       "</tr>\n",
       "<tr>\n",
       "  <th>Region_Sub-Saharan Africa</th>    <td>   -0.1189</td> <td>    1.603</td> <td>   -0.074</td> <td> 0.941</td> <td>   -3.291</td> <td>    3.054</td>\n",
       "</tr>\n",
       "</table>\n",
       "<table class=\"simpletable\">\n",
       "<tr>\n",
       "  <th>Omnibus:</th>       <td> 2.432</td> <th>  Durbin-Watson:     </th> <td>   1.829</td>\n",
       "</tr>\n",
       "<tr>\n",
       "  <th>Prob(Omnibus):</th> <td> 0.296</td> <th>  Jarque-Bera (JB):  </th> <td>   2.135</td>\n",
       "</tr>\n",
       "<tr>\n",
       "  <th>Skew:</th>          <td>-0.122</td> <th>  Prob(JB):          </th> <td>   0.344</td>\n",
       "</tr>\n",
       "<tr>\n",
       "  <th>Kurtosis:</th>      <td> 3.556</td> <th>  Cond. No.          </th> <td>    27.1</td>\n",
       "</tr>\n",
       "</table>"
      ],
      "text/plain": [
       "<class 'statsmodels.iolib.summary.Summary'>\n",
       "\"\"\"\n",
       "                            OLS Regression Results                            \n",
       "==============================================================================\n",
       "Dep. Variable:                   life   R-squared:                       0.905\n",
       "Model:                            OLS   Adj. R-squared:                  0.895\n",
       "Method:                 Least Squares   F-statistic:                     91.86\n",
       "Date:                Sat, 27 Jul 2019   Prob (F-statistic):           2.21e-57\n",
       "Time:                        00:20:13   Log-Likelihood:                -340.25\n",
       "No. Observations:                 139   AIC:                             708.5\n",
       "Df Residuals:                     125   BIC:                             749.6\n",
       "Df Model:                          13                                         \n",
       "Covariance Type:            nonrobust                                         \n",
       "================================================================================================\n",
       "                                   coef    std err          t      P>|t|      [0.025      0.975]\n",
       "------------------------------------------------------------------------------------------------\n",
       "const                           78.7979      2.123     37.112      0.000      74.596      83.000\n",
       "population                      -2.5418      3.052     -0.833      0.407      -8.583       3.499\n",
       "fertility                       -5.9609      2.958     -2.015      0.046     -11.815      -0.107\n",
       "HIV                            -16.5446      1.930     -8.574      0.000     -20.363     -12.726\n",
       "CO2                            -10.2351      3.695     -2.770      0.006     -17.549      -2.921\n",
       "BMI_male                         1.1335      2.019      0.562      0.575      -2.861       5.128\n",
       "GDP                             17.5278      3.528      4.968      0.000      10.545      24.510\n",
       "BMI_female                      -6.1496      1.775     -3.465      0.001      -9.662      -2.637\n",
       "child_mortality                -16.9211      2.791     -6.064      0.000     -22.444     -11.398\n",
       "Region_America                  -1.2584      1.201     -1.048      0.297      -3.634       1.118\n",
       "Region_East Asia & Pacific      -3.8781      1.414     -2.742      0.007      -6.677      -1.079\n",
       "Region_Europe & Central Asia    -1.6986      1.108     -1.534      0.128      -3.891       0.493\n",
       "Region_South Asia               -1.5331      1.802     -0.851      0.396      -5.099       2.033\n",
       "Region_Sub-Saharan Africa       -0.1189      1.603     -0.074      0.941      -3.291       3.054\n",
       "==============================================================================\n",
       "Omnibus:                        2.432   Durbin-Watson:                   1.829\n",
       "Prob(Omnibus):                  0.296   Jarque-Bera (JB):                2.135\n",
       "Skew:                          -0.122   Prob(JB):                        0.344\n",
       "Kurtosis:                       3.556   Cond. No.                         27.1\n",
       "==============================================================================\n",
       "\n",
       "Warnings:\n",
       "[1] Standard Errors assume that the covariance matrix of the errors is correctly specified.\n",
       "\"\"\""
      ]
     },
     "execution_count": 56,
     "metadata": {},
     "output_type": "execute_result"
    }
   ],
   "source": [
    "model_1=sm.OLS(y_for_OLS,X_for_OLS).fit()\n",
    "model_1.summary()"
   ]
  },
  {
   "cell_type": "code",
   "execution_count": 57,
   "metadata": {},
   "outputs": [
    {
     "data": {
      "text/html": [
       "<table class=\"simpletable\">\n",
       "<caption>OLS Regression Results</caption>\n",
       "<tr>\n",
       "  <th>Dep. Variable:</th>          <td>life</td>       <th>  R-squared:         </th> <td>   0.905</td>\n",
       "</tr>\n",
       "<tr>\n",
       "  <th>Model:</th>                   <td>OLS</td>       <th>  Adj. R-squared:    </th> <td>   0.896</td>\n",
       "</tr>\n",
       "<tr>\n",
       "  <th>Method:</th>             <td>Least Squares</td>  <th>  F-statistic:       </th> <td>   99.69</td>\n",
       "</tr>\n",
       "<tr>\n",
       "  <th>Date:</th>             <td>Sat, 27 Jul 2019</td> <th>  Prob (F-statistic):</th> <td>3.04e-58</td>\n",
       "</tr>\n",
       "<tr>\n",
       "  <th>Time:</th>                 <td>00:20:14</td>     <th>  Log-Likelihood:    </th> <td> -340.63</td>\n",
       "</tr>\n",
       "<tr>\n",
       "  <th>No. Observations:</th>      <td>   139</td>      <th>  AIC:               </th> <td>   707.3</td>\n",
       "</tr>\n",
       "<tr>\n",
       "  <th>Df Residuals:</th>          <td>   126</td>      <th>  BIC:               </th> <td>   745.4</td>\n",
       "</tr>\n",
       "<tr>\n",
       "  <th>Df Model:</th>              <td>    12</td>      <th>                     </th>     <td> </td>   \n",
       "</tr>\n",
       "<tr>\n",
       "  <th>Covariance Type:</th>      <td>nonrobust</td>    <th>                     </th>     <td> </td>   \n",
       "</tr>\n",
       "</table>\n",
       "<table class=\"simpletable\">\n",
       "<tr>\n",
       "                <td></td>                  <th>coef</th>     <th>std err</th>      <th>t</th>      <th>P>|t|</th>  <th>[0.025</th>    <th>0.975]</th>  \n",
       "</tr>\n",
       "<tr>\n",
       "  <th>const</th>                        <td>   78.5768</td> <td>    2.104</td> <td>   37.346</td> <td> 0.000</td> <td>   74.413</td> <td>   82.741</td>\n",
       "</tr>\n",
       "<tr>\n",
       "  <th>fertility</th>                    <td>   -5.6979</td> <td>    2.938</td> <td>   -1.940</td> <td> 0.055</td> <td>  -11.511</td> <td>    0.115</td>\n",
       "</tr>\n",
       "<tr>\n",
       "  <th>HIV</th>                          <td>  -16.4914</td> <td>    1.926</td> <td>   -8.562</td> <td> 0.000</td> <td>  -20.303</td> <td>  -12.680</td>\n",
       "</tr>\n",
       "<tr>\n",
       "  <th>CO2</th>                          <td>  -10.4843</td> <td>    3.679</td> <td>   -2.850</td> <td> 0.005</td> <td>  -17.765</td> <td>   -3.204</td>\n",
       "</tr>\n",
       "<tr>\n",
       "  <th>BMI_male</th>                     <td>    1.2663</td> <td>    2.010</td> <td>    0.630</td> <td> 0.530</td> <td>   -2.711</td> <td>    5.244</td>\n",
       "</tr>\n",
       "<tr>\n",
       "  <th>GDP</th>                          <td>   17.6644</td> <td>    3.520</td> <td>    5.018</td> <td> 0.000</td> <td>   10.699</td> <td>   24.630</td>\n",
       "</tr>\n",
       "<tr>\n",
       "  <th>BMI_female</th>                   <td>   -5.9993</td> <td>    1.764</td> <td>   -3.402</td> <td> 0.001</td> <td>   -9.489</td> <td>   -2.509</td>\n",
       "</tr>\n",
       "<tr>\n",
       "  <th>child_mortality</th>              <td>  -17.1803</td> <td>    2.770</td> <td>   -6.203</td> <td> 0.000</td> <td>  -22.662</td> <td>  -11.699</td>\n",
       "</tr>\n",
       "<tr>\n",
       "  <th>Region_America</th>               <td>   -1.2569</td> <td>    1.199</td> <td>   -1.048</td> <td> 0.297</td> <td>   -3.630</td> <td>    1.116</td>\n",
       "</tr>\n",
       "<tr>\n",
       "  <th>Region_East Asia & Pacific</th>   <td>   -3.8703</td> <td>    1.413</td> <td>   -2.740</td> <td> 0.007</td> <td>   -6.666</td> <td>   -1.075</td>\n",
       "</tr>\n",
       "<tr>\n",
       "  <th>Region_Europe & Central Asia</th> <td>   -1.6945</td> <td>    1.106</td> <td>   -1.532</td> <td> 0.128</td> <td>   -3.884</td> <td>    0.495</td>\n",
       "</tr>\n",
       "<tr>\n",
       "  <th>Region_South Asia</th>            <td>   -1.8622</td> <td>    1.756</td> <td>   -1.061</td> <td> 0.291</td> <td>   -5.337</td> <td>    1.612</td>\n",
       "</tr>\n",
       "<tr>\n",
       "  <th>Region_Sub-Saharan Africa</th>    <td>   -0.1146</td> <td>    1.601</td> <td>   -0.072</td> <td> 0.943</td> <td>   -3.283</td> <td>    3.054</td>\n",
       "</tr>\n",
       "</table>\n",
       "<table class=\"simpletable\">\n",
       "<tr>\n",
       "  <th>Omnibus:</th>       <td> 2.102</td> <th>  Durbin-Watson:     </th> <td>   1.847</td>\n",
       "</tr>\n",
       "<tr>\n",
       "  <th>Prob(Omnibus):</th> <td> 0.350</td> <th>  Jarque-Bera (JB):  </th> <td>   1.733</td>\n",
       "</tr>\n",
       "<tr>\n",
       "  <th>Skew:</th>          <td>-0.113</td> <th>  Prob(JB):          </th> <td>   0.420</td>\n",
       "</tr>\n",
       "<tr>\n",
       "  <th>Kurtosis:</th>      <td> 3.499</td> <th>  Cond. No.          </th> <td>    27.0</td>\n",
       "</tr>\n",
       "</table>"
      ],
      "text/plain": [
       "<class 'statsmodels.iolib.summary.Summary'>\n",
       "\"\"\"\n",
       "                            OLS Regression Results                            \n",
       "==============================================================================\n",
       "Dep. Variable:                   life   R-squared:                       0.905\n",
       "Model:                            OLS   Adj. R-squared:                  0.896\n",
       "Method:                 Least Squares   F-statistic:                     99.69\n",
       "Date:                Sat, 27 Jul 2019   Prob (F-statistic):           3.04e-58\n",
       "Time:                        00:20:14   Log-Likelihood:                -340.63\n",
       "No. Observations:                 139   AIC:                             707.3\n",
       "Df Residuals:                     126   BIC:                             745.4\n",
       "Df Model:                          12                                         \n",
       "Covariance Type:            nonrobust                                         \n",
       "================================================================================================\n",
       "                                   coef    std err          t      P>|t|      [0.025      0.975]\n",
       "------------------------------------------------------------------------------------------------\n",
       "const                           78.5768      2.104     37.346      0.000      74.413      82.741\n",
       "fertility                       -5.6979      2.938     -1.940      0.055     -11.511       0.115\n",
       "HIV                            -16.4914      1.926     -8.562      0.000     -20.303     -12.680\n",
       "CO2                            -10.4843      3.679     -2.850      0.005     -17.765      -3.204\n",
       "BMI_male                         1.2663      2.010      0.630      0.530      -2.711       5.244\n",
       "GDP                             17.6644      3.520      5.018      0.000      10.699      24.630\n",
       "BMI_female                      -5.9993      1.764     -3.402      0.001      -9.489      -2.509\n",
       "child_mortality                -17.1803      2.770     -6.203      0.000     -22.662     -11.699\n",
       "Region_America                  -1.2569      1.199     -1.048      0.297      -3.630       1.116\n",
       "Region_East Asia & Pacific      -3.8703      1.413     -2.740      0.007      -6.666      -1.075\n",
       "Region_Europe & Central Asia    -1.6945      1.106     -1.532      0.128      -3.884       0.495\n",
       "Region_South Asia               -1.8622      1.756     -1.061      0.291      -5.337       1.612\n",
       "Region_Sub-Saharan Africa       -0.1146      1.601     -0.072      0.943      -3.283       3.054\n",
       "==============================================================================\n",
       "Omnibus:                        2.102   Durbin-Watson:                   1.847\n",
       "Prob(Omnibus):                  0.350   Jarque-Bera (JB):                1.733\n",
       "Skew:                          -0.113   Prob(JB):                        0.420\n",
       "Kurtosis:                       3.499   Cond. No.                         27.0\n",
       "==============================================================================\n",
       "\n",
       "Warnings:\n",
       "[1] Standard Errors assume that the covariance matrix of the errors is correctly specified.\n",
       "\"\"\""
      ]
     },
     "execution_count": 57,
     "metadata": {},
     "output_type": "execute_result"
    }
   ],
   "source": [
    "X_for_OLS=X_for_OLS.drop([\"population\"],1)\n",
    "model_2=sm.OLS(y_for_OLS,X_for_OLS).fit()\n",
    "model_2.summary()"
   ]
  },
  {
   "cell_type": "code",
   "execution_count": 58,
   "metadata": {},
   "outputs": [
    {
     "data": {
      "text/html": [
       "<table class=\"simpletable\">\n",
       "<caption>OLS Regression Results</caption>\n",
       "<tr>\n",
       "  <th>Dep. Variable:</th>          <td>life</td>       <th>  R-squared:         </th> <td>   0.904</td>\n",
       "</tr>\n",
       "<tr>\n",
       "  <th>Model:</th>                   <td>OLS</td>       <th>  Adj. R-squared:    </th> <td>   0.896</td>\n",
       "</tr>\n",
       "<tr>\n",
       "  <th>Method:</th>             <td>Least Squares</td>  <th>  F-statistic:       </th> <td>   109.2</td>\n",
       "</tr>\n",
       "<tr>\n",
       "  <th>Date:</th>             <td>Sat, 27 Jul 2019</td> <th>  Prob (F-statistic):</th> <td>3.45e-59</td>\n",
       "</tr>\n",
       "<tr>\n",
       "  <th>Time:</th>                 <td>00:20:14</td>     <th>  Log-Likelihood:    </th> <td> -340.85</td>\n",
       "</tr>\n",
       "<tr>\n",
       "  <th>No. Observations:</th>      <td>   139</td>      <th>  AIC:               </th> <td>   705.7</td>\n",
       "</tr>\n",
       "<tr>\n",
       "  <th>Df Residuals:</th>          <td>   127</td>      <th>  BIC:               </th> <td>   740.9</td>\n",
       "</tr>\n",
       "<tr>\n",
       "  <th>Df Model:</th>              <td>    11</td>      <th>                     </th>     <td> </td>   \n",
       "</tr>\n",
       "<tr>\n",
       "  <th>Covariance Type:</th>      <td>nonrobust</td>    <th>                     </th>     <td> </td>   \n",
       "</tr>\n",
       "</table>\n",
       "<table class=\"simpletable\">\n",
       "<tr>\n",
       "                <td></td>                  <th>coef</th>     <th>std err</th>      <th>t</th>      <th>P>|t|</th>  <th>[0.025</th>    <th>0.975]</th>  \n",
       "</tr>\n",
       "<tr>\n",
       "  <th>const</th>                        <td>   79.4442</td> <td>    1.587</td> <td>   50.046</td> <td> 0.000</td> <td>   76.303</td> <td>   82.585</td>\n",
       "</tr>\n",
       "<tr>\n",
       "  <th>fertility</th>                    <td>   -5.9810</td> <td>    2.896</td> <td>   -2.065</td> <td> 0.041</td> <td>  -11.712</td> <td>   -0.250</td>\n",
       "</tr>\n",
       "<tr>\n",
       "  <th>HIV</th>                          <td>  -16.5213</td> <td>    1.921</td> <td>   -8.601</td> <td> 0.000</td> <td>  -20.323</td> <td>  -12.720</td>\n",
       "</tr>\n",
       "<tr>\n",
       "  <th>CO2</th>                          <td>  -10.1090</td> <td>    3.622</td> <td>   -2.791</td> <td> 0.006</td> <td>  -17.276</td> <td>   -2.942</td>\n",
       "</tr>\n",
       "<tr>\n",
       "  <th>GDP</th>                          <td>   17.9523</td> <td>    3.482</td> <td>    5.156</td> <td> 0.000</td> <td>   11.062</td> <td>   24.842</td>\n",
       "</tr>\n",
       "<tr>\n",
       "  <th>BMI_female</th>                   <td>   -6.0860</td> <td>    1.754</td> <td>   -3.470</td> <td> 0.001</td> <td>   -9.557</td> <td>   -2.615</td>\n",
       "</tr>\n",
       "<tr>\n",
       "  <th>child_mortality</th>              <td>  -17.4230</td> <td>    2.736</td> <td>   -6.367</td> <td> 0.000</td> <td>  -22.838</td> <td>  -12.008</td>\n",
       "</tr>\n",
       "<tr>\n",
       "  <th>Region_America</th>               <td>   -1.2181</td> <td>    1.195</td> <td>   -1.020</td> <td> 0.310</td> <td>   -3.582</td> <td>    1.146</td>\n",
       "</tr>\n",
       "<tr>\n",
       "  <th>Region_East Asia & Pacific</th>   <td>   -4.1555</td> <td>    1.335</td> <td>   -3.113</td> <td> 0.002</td> <td>   -6.797</td> <td>   -1.514</td>\n",
       "</tr>\n",
       "<tr>\n",
       "  <th>Region_Europe & Central Asia</th> <td>   -1.6678</td> <td>    1.103</td> <td>   -1.512</td> <td> 0.133</td> <td>   -3.850</td> <td>    0.514</td>\n",
       "</tr>\n",
       "<tr>\n",
       "  <th>Region_South Asia</th>            <td>   -2.3743</td> <td>    1.553</td> <td>   -1.529</td> <td> 0.129</td> <td>   -5.446</td> <td>    0.698</td>\n",
       "</tr>\n",
       "<tr>\n",
       "  <th>Region_Sub-Saharan Africa</th>    <td>   -0.3126</td> <td>    1.566</td> <td>   -0.200</td> <td> 0.842</td> <td>   -3.412</td> <td>    2.786</td>\n",
       "</tr>\n",
       "</table>\n",
       "<table class=\"simpletable\">\n",
       "<tr>\n",
       "  <th>Omnibus:</th>       <td> 1.807</td> <th>  Durbin-Watson:     </th> <td>   1.822</td>\n",
       "</tr>\n",
       "<tr>\n",
       "  <th>Prob(Omnibus):</th> <td> 0.405</td> <th>  Jarque-Bera (JB):  </th> <td>   1.379</td>\n",
       "</tr>\n",
       "<tr>\n",
       "  <th>Skew:</th>          <td>-0.119</td> <th>  Prob(JB):          </th> <td>   0.502</td>\n",
       "</tr>\n",
       "<tr>\n",
       "  <th>Kurtosis:</th>      <td> 3.426</td> <th>  Cond. No.          </th> <td>    25.1</td>\n",
       "</tr>\n",
       "</table>"
      ],
      "text/plain": [
       "<class 'statsmodels.iolib.summary.Summary'>\n",
       "\"\"\"\n",
       "                            OLS Regression Results                            \n",
       "==============================================================================\n",
       "Dep. Variable:                   life   R-squared:                       0.904\n",
       "Model:                            OLS   Adj. R-squared:                  0.896\n",
       "Method:                 Least Squares   F-statistic:                     109.2\n",
       "Date:                Sat, 27 Jul 2019   Prob (F-statistic):           3.45e-59\n",
       "Time:                        00:20:14   Log-Likelihood:                -340.85\n",
       "No. Observations:                 139   AIC:                             705.7\n",
       "Df Residuals:                     127   BIC:                             740.9\n",
       "Df Model:                          11                                         \n",
       "Covariance Type:            nonrobust                                         \n",
       "================================================================================================\n",
       "                                   coef    std err          t      P>|t|      [0.025      0.975]\n",
       "------------------------------------------------------------------------------------------------\n",
       "const                           79.4442      1.587     50.046      0.000      76.303      82.585\n",
       "fertility                       -5.9810      2.896     -2.065      0.041     -11.712      -0.250\n",
       "HIV                            -16.5213      1.921     -8.601      0.000     -20.323     -12.720\n",
       "CO2                            -10.1090      3.622     -2.791      0.006     -17.276      -2.942\n",
       "GDP                             17.9523      3.482      5.156      0.000      11.062      24.842\n",
       "BMI_female                      -6.0860      1.754     -3.470      0.001      -9.557      -2.615\n",
       "child_mortality                -17.4230      2.736     -6.367      0.000     -22.838     -12.008\n",
       "Region_America                  -1.2181      1.195     -1.020      0.310      -3.582       1.146\n",
       "Region_East Asia & Pacific      -4.1555      1.335     -3.113      0.002      -6.797      -1.514\n",
       "Region_Europe & Central Asia    -1.6678      1.103     -1.512      0.133      -3.850       0.514\n",
       "Region_South Asia               -2.3743      1.553     -1.529      0.129      -5.446       0.698\n",
       "Region_Sub-Saharan Africa       -0.3126      1.566     -0.200      0.842      -3.412       2.786\n",
       "==============================================================================\n",
       "Omnibus:                        1.807   Durbin-Watson:                   1.822\n",
       "Prob(Omnibus):                  0.405   Jarque-Bera (JB):                1.379\n",
       "Skew:                          -0.119   Prob(JB):                        0.502\n",
       "Kurtosis:                       3.426   Cond. No.                         25.1\n",
       "==============================================================================\n",
       "\n",
       "Warnings:\n",
       "[1] Standard Errors assume that the covariance matrix of the errors is correctly specified.\n",
       "\"\"\""
      ]
     },
     "execution_count": 58,
     "metadata": {},
     "output_type": "execute_result"
    }
   ],
   "source": [
    "X_for_OLS=X_for_OLS.drop([\"BMI_male\"],1)\n",
    "model_3=sm.OLS(y_for_OLS,X_for_OLS).fit()\n",
    "model_3.summary()"
   ]
  },
  {
   "cell_type": "code",
   "execution_count": 59,
   "metadata": {},
   "outputs": [
    {
     "data": {
      "text/html": [
       "<table class=\"simpletable\">\n",
       "<caption>OLS Regression Results</caption>\n",
       "<tr>\n",
       "  <th>Dep. Variable:</th>          <td>life</td>       <th>  R-squared:         </th> <td>   0.904</td>\n",
       "</tr>\n",
       "<tr>\n",
       "  <th>Model:</th>                   <td>OLS</td>       <th>  Adj. R-squared:    </th> <td>   0.896</td>\n",
       "</tr>\n",
       "<tr>\n",
       "  <th>Method:</th>             <td>Least Squares</td>  <th>  F-statistic:       </th> <td>   120.0</td>\n",
       "</tr>\n",
       "<tr>\n",
       "  <th>Date:</th>             <td>Sat, 27 Jul 2019</td> <th>  Prob (F-statistic):</th> <td>5.12e-60</td>\n",
       "</tr>\n",
       "<tr>\n",
       "  <th>Time:</th>                 <td>00:20:14</td>     <th>  Log-Likelihood:    </th> <td> -341.42</td>\n",
       "</tr>\n",
       "<tr>\n",
       "  <th>No. Observations:</th>      <td>   139</td>      <th>  AIC:               </th> <td>   704.8</td>\n",
       "</tr>\n",
       "<tr>\n",
       "  <th>Df Residuals:</th>          <td>   128</td>      <th>  BIC:               </th> <td>   737.1</td>\n",
       "</tr>\n",
       "<tr>\n",
       "  <th>Df Model:</th>              <td>    10</td>      <th>                     </th>     <td> </td>   \n",
       "</tr>\n",
       "<tr>\n",
       "  <th>Covariance Type:</th>      <td>nonrobust</td>    <th>                     </th>     <td> </td>   \n",
       "</tr>\n",
       "</table>\n",
       "<table class=\"simpletable\">\n",
       "<tr>\n",
       "                <td></td>                  <th>coef</th>     <th>std err</th>      <th>t</th>      <th>P>|t|</th>  <th>[0.025</th>    <th>0.975]</th>  \n",
       "</tr>\n",
       "<tr>\n",
       "  <th>const</th>                        <td>   78.1972</td> <td>    1.012</td> <td>   77.257</td> <td> 0.000</td> <td>   76.194</td> <td>   80.200</td>\n",
       "</tr>\n",
       "<tr>\n",
       "  <th>fertility</th>                    <td>   -5.8245</td> <td>    2.892</td> <td>   -2.014</td> <td> 0.046</td> <td>  -11.548</td> <td>   -0.101</td>\n",
       "</tr>\n",
       "<tr>\n",
       "  <th>HIV</th>                          <td>  -16.5962</td> <td>    1.920</td> <td>   -8.645</td> <td> 0.000</td> <td>  -20.395</td> <td>  -12.797</td>\n",
       "</tr>\n",
       "<tr>\n",
       "  <th>CO2</th>                          <td>  -10.0439</td> <td>    3.622</td> <td>   -2.773</td> <td> 0.006</td> <td>  -17.210</td> <td>   -2.878</td>\n",
       "</tr>\n",
       "<tr>\n",
       "  <th>GDP</th>                          <td>   18.6018</td> <td>    3.424</td> <td>    5.433</td> <td> 0.000</td> <td>   11.828</td> <td>   25.376</td>\n",
       "</tr>\n",
       "<tr>\n",
       "  <th>BMI_female</th>                   <td>   -5.4522</td> <td>    1.640</td> <td>   -3.324</td> <td> 0.001</td> <td>   -8.698</td> <td>   -2.206</td>\n",
       "</tr>\n",
       "<tr>\n",
       "  <th>child_mortality</th>              <td>  -17.3958</td> <td>    2.737</td> <td>   -6.356</td> <td> 0.000</td> <td>  -22.811</td> <td>  -11.981</td>\n",
       "</tr>\n",
       "<tr>\n",
       "  <th>Region_East Asia & Pacific</th>   <td>   -3.2027</td> <td>    0.953</td> <td>   -3.359</td> <td> 0.001</td> <td>   -5.089</td> <td>   -1.316</td>\n",
       "</tr>\n",
       "<tr>\n",
       "  <th>Region_Europe & Central Asia</th> <td>   -0.9052</td> <td>    0.810</td> <td>   -1.117</td> <td> 0.266</td> <td>   -2.509</td> <td>    0.698</td>\n",
       "</tr>\n",
       "<tr>\n",
       "  <th>Region_South Asia</th>            <td>   -1.4533</td> <td>    1.263</td> <td>   -1.151</td> <td> 0.252</td> <td>   -3.952</td> <td>    1.046</td>\n",
       "</tr>\n",
       "<tr>\n",
       "  <th>Region_Sub-Saharan Africa</th>    <td>    0.3277</td> <td>    1.435</td> <td>    0.228</td> <td> 0.820</td> <td>   -2.511</td> <td>    3.167</td>\n",
       "</tr>\n",
       "</table>\n",
       "<table class=\"simpletable\">\n",
       "<tr>\n",
       "  <th>Omnibus:</th>       <td> 1.696</td> <th>  Durbin-Watson:     </th> <td>   1.810</td>\n",
       "</tr>\n",
       "<tr>\n",
       "  <th>Prob(Omnibus):</th> <td> 0.428</td> <th>  Jarque-Bera (JB):  </th> <td>   1.260</td>\n",
       "</tr>\n",
       "<tr>\n",
       "  <th>Skew:</th>          <td>-0.116</td> <th>  Prob(JB):          </th> <td>   0.533</td>\n",
       "</tr>\n",
       "<tr>\n",
       "  <th>Kurtosis:</th>      <td> 3.404</td> <th>  Cond. No.          </th> <td>    24.8</td>\n",
       "</tr>\n",
       "</table>"
      ],
      "text/plain": [
       "<class 'statsmodels.iolib.summary.Summary'>\n",
       "\"\"\"\n",
       "                            OLS Regression Results                            \n",
       "==============================================================================\n",
       "Dep. Variable:                   life   R-squared:                       0.904\n",
       "Model:                            OLS   Adj. R-squared:                  0.896\n",
       "Method:                 Least Squares   F-statistic:                     120.0\n",
       "Date:                Sat, 27 Jul 2019   Prob (F-statistic):           5.12e-60\n",
       "Time:                        00:20:14   Log-Likelihood:                -341.42\n",
       "No. Observations:                 139   AIC:                             704.8\n",
       "Df Residuals:                     128   BIC:                             737.1\n",
       "Df Model:                          10                                         \n",
       "Covariance Type:            nonrobust                                         \n",
       "================================================================================================\n",
       "                                   coef    std err          t      P>|t|      [0.025      0.975]\n",
       "------------------------------------------------------------------------------------------------\n",
       "const                           78.1972      1.012     77.257      0.000      76.194      80.200\n",
       "fertility                       -5.8245      2.892     -2.014      0.046     -11.548      -0.101\n",
       "HIV                            -16.5962      1.920     -8.645      0.000     -20.395     -12.797\n",
       "CO2                            -10.0439      3.622     -2.773      0.006     -17.210      -2.878\n",
       "GDP                             18.6018      3.424      5.433      0.000      11.828      25.376\n",
       "BMI_female                      -5.4522      1.640     -3.324      0.001      -8.698      -2.206\n",
       "child_mortality                -17.3958      2.737     -6.356      0.000     -22.811     -11.981\n",
       "Region_East Asia & Pacific      -3.2027      0.953     -3.359      0.001      -5.089      -1.316\n",
       "Region_Europe & Central Asia    -0.9052      0.810     -1.117      0.266      -2.509       0.698\n",
       "Region_South Asia               -1.4533      1.263     -1.151      0.252      -3.952       1.046\n",
       "Region_Sub-Saharan Africa        0.3277      1.435      0.228      0.820      -2.511       3.167\n",
       "==============================================================================\n",
       "Omnibus:                        1.696   Durbin-Watson:                   1.810\n",
       "Prob(Omnibus):                  0.428   Jarque-Bera (JB):                1.260\n",
       "Skew:                          -0.116   Prob(JB):                        0.533\n",
       "Kurtosis:                       3.404   Cond. No.                         24.8\n",
       "==============================================================================\n",
       "\n",
       "Warnings:\n",
       "[1] Standard Errors assume that the covariance matrix of the errors is correctly specified.\n",
       "\"\"\""
      ]
     },
     "execution_count": 59,
     "metadata": {},
     "output_type": "execute_result"
    }
   ],
   "source": [
    "X_for_OLS=X_for_OLS.drop([\"Region_America\"],1)\n",
    "model_4=sm.OLS(y_for_OLS,X_for_OLS).fit()\n",
    "model_4.summary()"
   ]
  },
  {
   "cell_type": "code",
   "execution_count": 60,
   "metadata": {},
   "outputs": [
    {
     "data": {
      "text/html": [
       "<table class=\"simpletable\">\n",
       "<caption>OLS Regression Results</caption>\n",
       "<tr>\n",
       "  <th>Dep. Variable:</th>          <td>life</td>       <th>  R-squared:         </th> <td>   0.903</td>\n",
       "</tr>\n",
       "<tr>\n",
       "  <th>Model:</th>                   <td>OLS</td>       <th>  Adj. R-squared:    </th> <td>   0.896</td>\n",
       "</tr>\n",
       "<tr>\n",
       "  <th>Method:</th>             <td>Least Squares</td>  <th>  F-statistic:       </th> <td>   133.0</td>\n",
       "</tr>\n",
       "<tr>\n",
       "  <th>Date:</th>             <td>Sat, 27 Jul 2019</td> <th>  Prob (F-statistic):</th> <td>7.98e-61</td>\n",
       "</tr>\n",
       "<tr>\n",
       "  <th>Time:</th>                 <td>00:20:14</td>     <th>  Log-Likelihood:    </th> <td> -342.09</td>\n",
       "</tr>\n",
       "<tr>\n",
       "  <th>No. Observations:</th>      <td>   139</td>      <th>  AIC:               </th> <td>   704.2</td>\n",
       "</tr>\n",
       "<tr>\n",
       "  <th>Df Residuals:</th>          <td>   129</td>      <th>  BIC:               </th> <td>   733.5</td>\n",
       "</tr>\n",
       "<tr>\n",
       "  <th>Df Model:</th>              <td>     9</td>      <th>                     </th>     <td> </td>   \n",
       "</tr>\n",
       "<tr>\n",
       "  <th>Covariance Type:</th>      <td>nonrobust</td>    <th>                     </th>     <td> </td>   \n",
       "</tr>\n",
       "</table>\n",
       "<table class=\"simpletable\">\n",
       "<tr>\n",
       "               <td></td>                 <th>coef</th>     <th>std err</th>      <th>t</th>      <th>P>|t|</th>  <th>[0.025</th>    <th>0.975]</th>  \n",
       "</tr>\n",
       "<tr>\n",
       "  <th>const</th>                      <td>   78.0232</td> <td>    1.001</td> <td>   77.940</td> <td> 0.000</td> <td>   76.043</td> <td>   80.004</td>\n",
       "</tr>\n",
       "<tr>\n",
       "  <th>fertility</th>                  <td>   -4.8965</td> <td>    2.773</td> <td>   -1.766</td> <td> 0.080</td> <td>  -10.383</td> <td>    0.590</td>\n",
       "</tr>\n",
       "<tr>\n",
       "  <th>HIV</th>                        <td>  -16.1852</td> <td>    1.886</td> <td>   -8.582</td> <td> 0.000</td> <td>  -19.917</td> <td>  -12.454</td>\n",
       "</tr>\n",
       "<tr>\n",
       "  <th>CO2</th>                        <td>   -8.9674</td> <td>    3.494</td> <td>   -2.566</td> <td> 0.011</td> <td>  -15.881</td> <td>   -2.054</td>\n",
       "</tr>\n",
       "<tr>\n",
       "  <th>GDP</th>                        <td>   17.2199</td> <td>    3.195</td> <td>    5.389</td> <td> 0.000</td> <td>   10.898</td> <td>   23.542</td>\n",
       "</tr>\n",
       "<tr>\n",
       "  <th>BMI_female</th>                 <td>   -6.1268</td> <td>    1.527</td> <td>   -4.013</td> <td> 0.000</td> <td>   -9.147</td> <td>   -3.106</td>\n",
       "</tr>\n",
       "<tr>\n",
       "  <th>child_mortality</th>            <td>  -17.6839</td> <td>    2.727</td> <td>   -6.484</td> <td> 0.000</td> <td>  -23.080</td> <td>  -12.288</td>\n",
       "</tr>\n",
       "<tr>\n",
       "  <th>Region_East Asia & Pacific</th> <td>   -2.8690</td> <td>    0.906</td> <td>   -3.166</td> <td> 0.002</td> <td>   -4.662</td> <td>   -1.076</td>\n",
       "</tr>\n",
       "<tr>\n",
       "  <th>Region_South Asia</th>          <td>   -1.1106</td> <td>    1.226</td> <td>   -0.906</td> <td> 0.367</td> <td>   -3.537</td> <td>    1.315</td>\n",
       "</tr>\n",
       "<tr>\n",
       "  <th>Region_Sub-Saharan Africa</th>  <td>    0.5471</td> <td>    1.423</td> <td>    0.385</td> <td> 0.701</td> <td>   -2.268</td> <td>    3.362</td>\n",
       "</tr>\n",
       "</table>\n",
       "<table class=\"simpletable\">\n",
       "<tr>\n",
       "  <th>Omnibus:</th>       <td> 1.685</td> <th>  Durbin-Watson:     </th> <td>   1.812</td>\n",
       "</tr>\n",
       "<tr>\n",
       "  <th>Prob(Omnibus):</th> <td> 0.431</td> <th>  Jarque-Bera (JB):  </th> <td>   1.267</td>\n",
       "</tr>\n",
       "<tr>\n",
       "  <th>Skew:</th>          <td>-0.096</td> <th>  Prob(JB):          </th> <td>   0.531</td>\n",
       "</tr>\n",
       "<tr>\n",
       "  <th>Kurtosis:</th>      <td> 3.427</td> <th>  Cond. No.          </th> <td>    22.8</td>\n",
       "</tr>\n",
       "</table>"
      ],
      "text/plain": [
       "<class 'statsmodels.iolib.summary.Summary'>\n",
       "\"\"\"\n",
       "                            OLS Regression Results                            \n",
       "==============================================================================\n",
       "Dep. Variable:                   life   R-squared:                       0.903\n",
       "Model:                            OLS   Adj. R-squared:                  0.896\n",
       "Method:                 Least Squares   F-statistic:                     133.0\n",
       "Date:                Sat, 27 Jul 2019   Prob (F-statistic):           7.98e-61\n",
       "Time:                        00:20:14   Log-Likelihood:                -342.09\n",
       "No. Observations:                 139   AIC:                             704.2\n",
       "Df Residuals:                     129   BIC:                             733.5\n",
       "Df Model:                           9                                         \n",
       "Covariance Type:            nonrobust                                         \n",
       "==============================================================================================\n",
       "                                 coef    std err          t      P>|t|      [0.025      0.975]\n",
       "----------------------------------------------------------------------------------------------\n",
       "const                         78.0232      1.001     77.940      0.000      76.043      80.004\n",
       "fertility                     -4.8965      2.773     -1.766      0.080     -10.383       0.590\n",
       "HIV                          -16.1852      1.886     -8.582      0.000     -19.917     -12.454\n",
       "CO2                           -8.9674      3.494     -2.566      0.011     -15.881      -2.054\n",
       "GDP                           17.2199      3.195      5.389      0.000      10.898      23.542\n",
       "BMI_female                    -6.1268      1.527     -4.013      0.000      -9.147      -3.106\n",
       "child_mortality              -17.6839      2.727     -6.484      0.000     -23.080     -12.288\n",
       "Region_East Asia & Pacific    -2.8690      0.906     -3.166      0.002      -4.662      -1.076\n",
       "Region_South Asia             -1.1106      1.226     -0.906      0.367      -3.537       1.315\n",
       "Region_Sub-Saharan Africa      0.5471      1.423      0.385      0.701      -2.268       3.362\n",
       "==============================================================================\n",
       "Omnibus:                        1.685   Durbin-Watson:                   1.812\n",
       "Prob(Omnibus):                  0.431   Jarque-Bera (JB):                1.267\n",
       "Skew:                          -0.096   Prob(JB):                        0.531\n",
       "Kurtosis:                       3.427   Cond. No.                         22.8\n",
       "==============================================================================\n",
       "\n",
       "Warnings:\n",
       "[1] Standard Errors assume that the covariance matrix of the errors is correctly specified.\n",
       "\"\"\""
      ]
     },
     "execution_count": 60,
     "metadata": {},
     "output_type": "execute_result"
    }
   ],
   "source": [
    "X_for_OLS=X_for_OLS.drop([\"Region_Europe & Central Asia\"],1)\n",
    "model_5=sm.OLS(y_for_OLS,X_for_OLS).fit()\n",
    "model_5.summary()"
   ]
  },
  {
   "cell_type": "code",
   "execution_count": 61,
   "metadata": {},
   "outputs": [
    {
     "data": {
      "text/html": [
       "<table class=\"simpletable\">\n",
       "<caption>OLS Regression Results</caption>\n",
       "<tr>\n",
       "  <th>Dep. Variable:</th>          <td>life</td>       <th>  R-squared:         </th> <td>   0.902</td>\n",
       "</tr>\n",
       "<tr>\n",
       "  <th>Model:</th>                   <td>OLS</td>       <th>  Adj. R-squared:    </th> <td>   0.896</td>\n",
       "</tr>\n",
       "<tr>\n",
       "  <th>Method:</th>             <td>Least Squares</td>  <th>  F-statistic:       </th> <td>   149.7</td>\n",
       "</tr>\n",
       "<tr>\n",
       "  <th>Date:</th>             <td>Sat, 27 Jul 2019</td> <th>  Prob (F-statistic):</th> <td>9.47e-62</td>\n",
       "</tr>\n",
       "<tr>\n",
       "  <th>Time:</th>                 <td>00:20:14</td>     <th>  Log-Likelihood:    </th> <td> -342.53</td>\n",
       "</tr>\n",
       "<tr>\n",
       "  <th>No. Observations:</th>      <td>   139</td>      <th>  AIC:               </th> <td>   703.1</td>\n",
       "</tr>\n",
       "<tr>\n",
       "  <th>Df Residuals:</th>          <td>   130</td>      <th>  BIC:               </th> <td>   729.5</td>\n",
       "</tr>\n",
       "<tr>\n",
       "  <th>Df Model:</th>              <td>     8</td>      <th>                     </th>     <td> </td>   \n",
       "</tr>\n",
       "<tr>\n",
       "  <th>Covariance Type:</th>      <td>nonrobust</td>    <th>                     </th>     <td> </td>   \n",
       "</tr>\n",
       "</table>\n",
       "<table class=\"simpletable\">\n",
       "<tr>\n",
       "               <td></td>                 <th>coef</th>     <th>std err</th>      <th>t</th>      <th>P>|t|</th>  <th>[0.025</th>    <th>0.975]</th>  \n",
       "</tr>\n",
       "<tr>\n",
       "  <th>const</th>                      <td>   77.8425</td> <td>    0.980</td> <td>   79.407</td> <td> 0.000</td> <td>   75.903</td> <td>   79.782</td>\n",
       "</tr>\n",
       "<tr>\n",
       "  <th>fertility</th>                  <td>   -4.7048</td> <td>    2.763</td> <td>   -1.703</td> <td> 0.091</td> <td>  -10.172</td> <td>    0.762</td>\n",
       "</tr>\n",
       "<tr>\n",
       "  <th>HIV</th>                        <td>  -16.1517</td> <td>    1.884</td> <td>   -8.571</td> <td> 0.000</td> <td>  -19.880</td> <td>  -12.424</td>\n",
       "</tr>\n",
       "<tr>\n",
       "  <th>CO2</th>                        <td>   -8.8340</td> <td>    3.489</td> <td>   -2.532</td> <td> 0.013</td> <td>  -15.736</td> <td>   -1.932</td>\n",
       "</tr>\n",
       "<tr>\n",
       "  <th>GDP</th>                        <td>   17.4283</td> <td>    3.185</td> <td>    5.472</td> <td> 0.000</td> <td>   11.128</td> <td>   23.729</td>\n",
       "</tr>\n",
       "<tr>\n",
       "  <th>BMI_female</th>                 <td>   -5.9983</td> <td>    1.519</td> <td>   -3.949</td> <td> 0.000</td> <td>   -9.003</td> <td>   -2.993</td>\n",
       "</tr>\n",
       "<tr>\n",
       "  <th>child_mortality</th>            <td>  -18.1800</td> <td>    2.670</td> <td>   -6.810</td> <td> 0.000</td> <td>  -23.462</td> <td>  -12.898</td>\n",
       "</tr>\n",
       "<tr>\n",
       "  <th>Region_East Asia & Pacific</th> <td>   -2.7260</td> <td>    0.892</td> <td>   -3.057</td> <td> 0.003</td> <td>   -4.490</td> <td>   -0.962</td>\n",
       "</tr>\n",
       "<tr>\n",
       "  <th>Region_Sub-Saharan Africa</th>  <td>    0.7613</td> <td>    1.402</td> <td>    0.543</td> <td> 0.588</td> <td>   -2.012</td> <td>    3.535</td>\n",
       "</tr>\n",
       "</table>\n",
       "<table class=\"simpletable\">\n",
       "<tr>\n",
       "  <th>Omnibus:</th>       <td> 1.318</td> <th>  Durbin-Watson:     </th> <td>   1.825</td>\n",
       "</tr>\n",
       "<tr>\n",
       "  <th>Prob(Omnibus):</th> <td> 0.517</td> <th>  Jarque-Bera (JB):  </th> <td>   0.887</td>\n",
       "</tr>\n",
       "<tr>\n",
       "  <th>Skew:</th>          <td>-0.091</td> <th>  Prob(JB):          </th> <td>   0.642</td>\n",
       "</tr>\n",
       "<tr>\n",
       "  <th>Kurtosis:</th>      <td> 3.347</td> <th>  Cond. No.          </th> <td>    22.8</td>\n",
       "</tr>\n",
       "</table>"
      ],
      "text/plain": [
       "<class 'statsmodels.iolib.summary.Summary'>\n",
       "\"\"\"\n",
       "                            OLS Regression Results                            \n",
       "==============================================================================\n",
       "Dep. Variable:                   life   R-squared:                       0.902\n",
       "Model:                            OLS   Adj. R-squared:                  0.896\n",
       "Method:                 Least Squares   F-statistic:                     149.7\n",
       "Date:                Sat, 27 Jul 2019   Prob (F-statistic):           9.47e-62\n",
       "Time:                        00:20:14   Log-Likelihood:                -342.53\n",
       "No. Observations:                 139   AIC:                             703.1\n",
       "Df Residuals:                     130   BIC:                             729.5\n",
       "Df Model:                           8                                         \n",
       "Covariance Type:            nonrobust                                         \n",
       "==============================================================================================\n",
       "                                 coef    std err          t      P>|t|      [0.025      0.975]\n",
       "----------------------------------------------------------------------------------------------\n",
       "const                         77.8425      0.980     79.407      0.000      75.903      79.782\n",
       "fertility                     -4.7048      2.763     -1.703      0.091     -10.172       0.762\n",
       "HIV                          -16.1517      1.884     -8.571      0.000     -19.880     -12.424\n",
       "CO2                           -8.8340      3.489     -2.532      0.013     -15.736      -1.932\n",
       "GDP                           17.4283      3.185      5.472      0.000      11.128      23.729\n",
       "BMI_female                    -5.9983      1.519     -3.949      0.000      -9.003      -2.993\n",
       "child_mortality              -18.1800      2.670     -6.810      0.000     -23.462     -12.898\n",
       "Region_East Asia & Pacific    -2.7260      0.892     -3.057      0.003      -4.490      -0.962\n",
       "Region_Sub-Saharan Africa      0.7613      1.402      0.543      0.588      -2.012       3.535\n",
       "==============================================================================\n",
       "Omnibus:                        1.318   Durbin-Watson:                   1.825\n",
       "Prob(Omnibus):                  0.517   Jarque-Bera (JB):                0.887\n",
       "Skew:                          -0.091   Prob(JB):                        0.642\n",
       "Kurtosis:                       3.347   Cond. No.                         22.8\n",
       "==============================================================================\n",
       "\n",
       "Warnings:\n",
       "[1] Standard Errors assume that the covariance matrix of the errors is correctly specified.\n",
       "\"\"\""
      ]
     },
     "execution_count": 61,
     "metadata": {},
     "output_type": "execute_result"
    }
   ],
   "source": [
    "X_for_OLS=X_for_OLS.drop([\"Region_South Asia\"],1)\n",
    "model_6=sm.OLS(y_for_OLS,X_for_OLS).fit()\n",
    "model_6.summary()"
   ]
  },
  {
   "cell_type": "code",
   "execution_count": 62,
   "metadata": {},
   "outputs": [
    {
     "data": {
      "text/html": [
       "<table class=\"simpletable\">\n",
       "<caption>OLS Regression Results</caption>\n",
       "<tr>\n",
       "  <th>Dep. Variable:</th>          <td>life</td>       <th>  R-squared:         </th> <td>   0.902</td>\n",
       "</tr>\n",
       "<tr>\n",
       "  <th>Model:</th>                   <td>OLS</td>       <th>  Adj. R-squared:    </th> <td>   0.897</td>\n",
       "</tr>\n",
       "<tr>\n",
       "  <th>Method:</th>             <td>Least Squares</td>  <th>  F-statistic:       </th> <td>   172.0</td>\n",
       "</tr>\n",
       "<tr>\n",
       "  <th>Date:</th>             <td>Sat, 27 Jul 2019</td> <th>  Prob (F-statistic):</th> <td>8.05e-63</td>\n",
       "</tr>\n",
       "<tr>\n",
       "  <th>Time:</th>                 <td>00:20:15</td>     <th>  Log-Likelihood:    </th> <td> -342.69</td>\n",
       "</tr>\n",
       "<tr>\n",
       "  <th>No. Observations:</th>      <td>   139</td>      <th>  AIC:               </th> <td>   701.4</td>\n",
       "</tr>\n",
       "<tr>\n",
       "  <th>Df Residuals:</th>          <td>   131</td>      <th>  BIC:               </th> <td>   724.9</td>\n",
       "</tr>\n",
       "<tr>\n",
       "  <th>Df Model:</th>              <td>     7</td>      <th>                     </th>     <td> </td>   \n",
       "</tr>\n",
       "<tr>\n",
       "  <th>Covariance Type:</th>      <td>nonrobust</td>    <th>                     </th>     <td> </td>   \n",
       "</tr>\n",
       "</table>\n",
       "<table class=\"simpletable\">\n",
       "<tr>\n",
       "               <td></td>                 <th>coef</th>     <th>std err</th>      <th>t</th>      <th>P>|t|</th>  <th>[0.025</th>    <th>0.975]</th>  \n",
       "</tr>\n",
       "<tr>\n",
       "  <th>const</th>                      <td>   77.5684</td> <td>    0.838</td> <td>   92.550</td> <td> 0.000</td> <td>   75.910</td> <td>   79.226</td>\n",
       "</tr>\n",
       "<tr>\n",
       "  <th>fertility</th>                  <td>   -3.8836</td> <td>    2.306</td> <td>   -1.684</td> <td> 0.095</td> <td>   -8.446</td> <td>    0.679</td>\n",
       "</tr>\n",
       "<tr>\n",
       "  <th>HIV</th>                        <td>  -15.6704</td> <td>    1.658</td> <td>   -9.449</td> <td> 0.000</td> <td>  -18.951</td> <td>  -12.390</td>\n",
       "</tr>\n",
       "<tr>\n",
       "  <th>CO2</th>                        <td>   -9.0818</td> <td>    3.450</td> <td>   -2.633</td> <td> 0.009</td> <td>  -15.906</td> <td>   -2.258</td>\n",
       "</tr>\n",
       "<tr>\n",
       "  <th>GDP</th>                        <td>   17.8073</td> <td>    3.099</td> <td>    5.746</td> <td> 0.000</td> <td>   11.677</td> <td>   23.938</td>\n",
       "</tr>\n",
       "<tr>\n",
       "  <th>BMI_female</th>                 <td>   -5.6460</td> <td>    1.370</td> <td>   -4.122</td> <td> 0.000</td> <td>   -8.356</td> <td>   -2.936</td>\n",
       "</tr>\n",
       "<tr>\n",
       "  <th>child_mortality</th>            <td>  -18.0574</td> <td>    2.653</td> <td>   -6.806</td> <td> 0.000</td> <td>  -23.306</td> <td>  -12.809</td>\n",
       "</tr>\n",
       "<tr>\n",
       "  <th>Region_East Asia & Pacific</th> <td>   -2.7313</td> <td>    0.889</td> <td>   -3.071</td> <td> 0.003</td> <td>   -4.491</td> <td>   -0.972</td>\n",
       "</tr>\n",
       "</table>\n",
       "<table class=\"simpletable\">\n",
       "<tr>\n",
       "  <th>Omnibus:</th>       <td> 1.202</td> <th>  Durbin-Watson:     </th> <td>   1.837</td>\n",
       "</tr>\n",
       "<tr>\n",
       "  <th>Prob(Omnibus):</th> <td> 0.548</td> <th>  Jarque-Bera (JB):  </th> <td>   0.776</td>\n",
       "</tr>\n",
       "<tr>\n",
       "  <th>Skew:</th>          <td>-0.091</td> <th>  Prob(JB):          </th> <td>   0.678</td>\n",
       "</tr>\n",
       "<tr>\n",
       "  <th>Kurtosis:</th>      <td> 3.317</td> <th>  Cond. No.          </th> <td>    21.3</td>\n",
       "</tr>\n",
       "</table>"
      ],
      "text/plain": [
       "<class 'statsmodels.iolib.summary.Summary'>\n",
       "\"\"\"\n",
       "                            OLS Regression Results                            \n",
       "==============================================================================\n",
       "Dep. Variable:                   life   R-squared:                       0.902\n",
       "Model:                            OLS   Adj. R-squared:                  0.897\n",
       "Method:                 Least Squares   F-statistic:                     172.0\n",
       "Date:                Sat, 27 Jul 2019   Prob (F-statistic):           8.05e-63\n",
       "Time:                        00:20:15   Log-Likelihood:                -342.69\n",
       "No. Observations:                 139   AIC:                             701.4\n",
       "Df Residuals:                     131   BIC:                             724.9\n",
       "Df Model:                           7                                         \n",
       "Covariance Type:            nonrobust                                         \n",
       "==============================================================================================\n",
       "                                 coef    std err          t      P>|t|      [0.025      0.975]\n",
       "----------------------------------------------------------------------------------------------\n",
       "const                         77.5684      0.838     92.550      0.000      75.910      79.226\n",
       "fertility                     -3.8836      2.306     -1.684      0.095      -8.446       0.679\n",
       "HIV                          -15.6704      1.658     -9.449      0.000     -18.951     -12.390\n",
       "CO2                           -9.0818      3.450     -2.633      0.009     -15.906      -2.258\n",
       "GDP                           17.8073      3.099      5.746      0.000      11.677      23.938\n",
       "BMI_female                    -5.6460      1.370     -4.122      0.000      -8.356      -2.936\n",
       "child_mortality              -18.0574      2.653     -6.806      0.000     -23.306     -12.809\n",
       "Region_East Asia & Pacific    -2.7313      0.889     -3.071      0.003      -4.491      -0.972\n",
       "==============================================================================\n",
       "Omnibus:                        1.202   Durbin-Watson:                   1.837\n",
       "Prob(Omnibus):                  0.548   Jarque-Bera (JB):                0.776\n",
       "Skew:                          -0.091   Prob(JB):                        0.678\n",
       "Kurtosis:                       3.317   Cond. No.                         21.3\n",
       "==============================================================================\n",
       "\n",
       "Warnings:\n",
       "[1] Standard Errors assume that the covariance matrix of the errors is correctly specified.\n",
       "\"\"\""
      ]
     },
     "execution_count": 62,
     "metadata": {},
     "output_type": "execute_result"
    }
   ],
   "source": [
    "X_for_OLS=X_for_OLS.drop([\"Region_Sub-Saharan Africa\"],1)\n",
    "model_7=sm.OLS(y_for_OLS,X_for_OLS).fit()\n",
    "model_7.summary()"
   ]
  },
  {
   "cell_type": "code",
   "execution_count": 63,
   "metadata": {},
   "outputs": [
    {
     "data": {
      "text/html": [
       "<table class=\"simpletable\">\n",
       "<caption>OLS Regression Results</caption>\n",
       "<tr>\n",
       "  <th>Dep. Variable:</th>          <td>life</td>       <th>  R-squared:         </th> <td>   0.900</td>\n",
       "</tr>\n",
       "<tr>\n",
       "  <th>Model:</th>                   <td>OLS</td>       <th>  Adj. R-squared:    </th> <td>   0.895</td>\n",
       "</tr>\n",
       "<tr>\n",
       "  <th>Method:</th>             <td>Least Squares</td>  <th>  F-statistic:       </th> <td>   197.4</td>\n",
       "</tr>\n",
       "<tr>\n",
       "  <th>Date:</th>             <td>Sat, 27 Jul 2019</td> <th>  Prob (F-statistic):</th> <td>2.21e-63</td>\n",
       "</tr>\n",
       "<tr>\n",
       "  <th>Time:</th>                 <td>00:20:15</td>     <th>  Log-Likelihood:    </th> <td> -344.18</td>\n",
       "</tr>\n",
       "<tr>\n",
       "  <th>No. Observations:</th>      <td>   139</td>      <th>  AIC:               </th> <td>   702.4</td>\n",
       "</tr>\n",
       "<tr>\n",
       "  <th>Df Residuals:</th>          <td>   132</td>      <th>  BIC:               </th> <td>   722.9</td>\n",
       "</tr>\n",
       "<tr>\n",
       "  <th>Df Model:</th>              <td>     6</td>      <th>                     </th>     <td> </td>   \n",
       "</tr>\n",
       "<tr>\n",
       "  <th>Covariance Type:</th>      <td>nonrobust</td>    <th>                     </th>     <td> </td>   \n",
       "</tr>\n",
       "</table>\n",
       "<table class=\"simpletable\">\n",
       "<tr>\n",
       "               <td></td>                 <th>coef</th>     <th>std err</th>      <th>t</th>      <th>P>|t|</th>  <th>[0.025</th>    <th>0.975]</th>  \n",
       "</tr>\n",
       "<tr>\n",
       "  <th>const</th>                      <td>   77.2965</td> <td>    0.828</td> <td>   93.339</td> <td> 0.000</td> <td>   75.658</td> <td>   78.935</td>\n",
       "</tr>\n",
       "<tr>\n",
       "  <th>HIV</th>                        <td>  -15.2057</td> <td>    1.647</td> <td>   -9.234</td> <td> 0.000</td> <td>  -18.463</td> <td>  -11.948</td>\n",
       "</tr>\n",
       "<tr>\n",
       "  <th>CO2</th>                        <td>   -8.6710</td> <td>    3.465</td> <td>   -2.503</td> <td> 0.014</td> <td>  -15.525</td> <td>   -1.817</td>\n",
       "</tr>\n",
       "<tr>\n",
       "  <th>GDP</th>                        <td>   17.6491</td> <td>    3.119</td> <td>    5.659</td> <td> 0.000</td> <td>   11.479</td> <td>   23.819</td>\n",
       "</tr>\n",
       "<tr>\n",
       "  <th>BMI_female</th>                 <td>   -5.6755</td> <td>    1.379</td> <td>   -4.115</td> <td> 0.000</td> <td>   -8.404</td> <td>   -2.947</td>\n",
       "</tr>\n",
       "<tr>\n",
       "  <th>child_mortality</th>            <td>  -21.8121</td> <td>    1.447</td> <td>  -15.071</td> <td> 0.000</td> <td>  -24.675</td> <td>  -18.949</td>\n",
       "</tr>\n",
       "<tr>\n",
       "  <th>Region_East Asia & Pacific</th> <td>   -2.5768</td> <td>    0.891</td> <td>   -2.893</td> <td> 0.004</td> <td>   -4.339</td> <td>   -0.815</td>\n",
       "</tr>\n",
       "</table>\n",
       "<table class=\"simpletable\">\n",
       "<tr>\n",
       "  <th>Omnibus:</th>       <td> 1.742</td> <th>  Durbin-Watson:     </th> <td>   1.817</td>\n",
       "</tr>\n",
       "<tr>\n",
       "  <th>Prob(Omnibus):</th> <td> 0.418</td> <th>  Jarque-Bera (JB):  </th> <td>   1.355</td>\n",
       "</tr>\n",
       "<tr>\n",
       "  <th>Skew:</th>          <td>-0.072</td> <th>  Prob(JB):          </th> <td>   0.508</td>\n",
       "</tr>\n",
       "<tr>\n",
       "  <th>Kurtosis:</th>      <td> 3.462</td> <th>  Cond. No.          </th> <td>    20.6</td>\n",
       "</tr>\n",
       "</table>"
      ],
      "text/plain": [
       "<class 'statsmodels.iolib.summary.Summary'>\n",
       "\"\"\"\n",
       "                            OLS Regression Results                            \n",
       "==============================================================================\n",
       "Dep. Variable:                   life   R-squared:                       0.900\n",
       "Model:                            OLS   Adj. R-squared:                  0.895\n",
       "Method:                 Least Squares   F-statistic:                     197.4\n",
       "Date:                Sat, 27 Jul 2019   Prob (F-statistic):           2.21e-63\n",
       "Time:                        00:20:15   Log-Likelihood:                -344.18\n",
       "No. Observations:                 139   AIC:                             702.4\n",
       "Df Residuals:                     132   BIC:                             722.9\n",
       "Df Model:                           6                                         \n",
       "Covariance Type:            nonrobust                                         \n",
       "==============================================================================================\n",
       "                                 coef    std err          t      P>|t|      [0.025      0.975]\n",
       "----------------------------------------------------------------------------------------------\n",
       "const                         77.2965      0.828     93.339      0.000      75.658      78.935\n",
       "HIV                          -15.2057      1.647     -9.234      0.000     -18.463     -11.948\n",
       "CO2                           -8.6710      3.465     -2.503      0.014     -15.525      -1.817\n",
       "GDP                           17.6491      3.119      5.659      0.000      11.479      23.819\n",
       "BMI_female                    -5.6755      1.379     -4.115      0.000      -8.404      -2.947\n",
       "child_mortality              -21.8121      1.447    -15.071      0.000     -24.675     -18.949\n",
       "Region_East Asia & Pacific    -2.5768      0.891     -2.893      0.004      -4.339      -0.815\n",
       "==============================================================================\n",
       "Omnibus:                        1.742   Durbin-Watson:                   1.817\n",
       "Prob(Omnibus):                  0.418   Jarque-Bera (JB):                1.355\n",
       "Skew:                          -0.072   Prob(JB):                        0.508\n",
       "Kurtosis:                       3.462   Cond. No.                         20.6\n",
       "==============================================================================\n",
       "\n",
       "Warnings:\n",
       "[1] Standard Errors assume that the covariance matrix of the errors is correctly specified.\n",
       "\"\"\""
      ]
     },
     "execution_count": 63,
     "metadata": {},
     "output_type": "execute_result"
    }
   ],
   "source": [
    "X_for_OLS=X_for_OLS.drop([\"fertility\"],1)\n",
    "model_8=sm.OLS(y_for_OLS,X_for_OLS).fit()\n",
    "model_8.summary()"
   ]
  },
  {
   "cell_type": "markdown",
   "metadata": {},
   "source": [
    "#### What are the features given by the Correlation heatmap and the Backward elimination method? Are they the same?\n",
    "Features by Correlation heatmap: GDP, Child Mortality, HIV\n",
    "\n",
    "Features by Backward Elimination: HIV, CO2, GDP, BMI_female, Child_mortatlity"
   ]
  },
  {
   "cell_type": "code",
   "execution_count": 64,
   "metadata": {
    "collapsed": true
   },
   "outputs": [],
   "source": [
    "XLO=data2[[\"GDP\",\"child_mortality\",\"HIV\",\"CO2\",\"BMI_female\",\"Region_East Asia & Pacific\"]]\n",
    "yLO=df[\"life\"]"
   ]
  },
  {
   "cell_type": "code",
   "execution_count": 65,
   "metadata": {
    "collapsed": true
   },
   "outputs": [],
   "source": [
    "linregols=LinearRegression()"
   ]
  },
  {
   "cell_type": "code",
   "execution_count": 66,
   "metadata": {
    "collapsed": true
   },
   "outputs": [],
   "source": [
    "XLO_train,XLO_test,yLO_train,yLO_test=tts(XLO,yLO,test_size=0.3,random_state=0)"
   ]
  },
  {
   "cell_type": "code",
   "execution_count": 67,
   "metadata": {},
   "outputs": [
    {
     "data": {
      "text/plain": [
       "LinearRegression(copy_X=True, fit_intercept=True, n_jobs=1, normalize=False)"
      ]
     },
     "execution_count": 67,
     "metadata": {},
     "output_type": "execute_result"
    }
   ],
   "source": [
    "linregols.fit(XLO_train,yLO_train)"
   ]
  },
  {
   "cell_type": "code",
   "execution_count": 68,
   "metadata": {
    "collapsed": true
   },
   "outputs": [],
   "source": [
    "yLO_pred=linregols.predict(XLO_test)"
   ]
  },
  {
   "cell_type": "code",
   "execution_count": 69,
   "metadata": {
    "collapsed": true
   },
   "outputs": [],
   "source": [
    "rLO2=r2_score(yLO_test,yLO_pred)\n",
    "maeLO=mean_absolute_error(yLO_test,yLO_pred)\n",
    "mseLO=mean_squared_error(yLO_test,yLO_pred)\n",
    "rmseLO=math.sqrt(mseLO)\n",
    "ar2LO=1-((1-rL2)*((n-1)/(n-(k+1))))"
   ]
  },
  {
   "cell_type": "code",
   "execution_count": 70,
   "metadata": {},
   "outputs": [
    {
     "name": "stdout",
     "output_type": "stream",
     "text": [
      "R-square:  0.840223450743\n",
      "Adjusted R-Square:  0.796420313628\n",
      "Mean Absolute Error:  2.49592650553\n",
      "Mean Squared Error:  11.8562432932\n",
      "Root Mean Squared Error:  3.443289603449434\n"
     ]
    }
   ],
   "source": [
    "print(\"R-square: \",rLO2)\n",
    "print(\"Adjusted R-Square: \",ar2LO)\n",
    "print(\"Mean Absolute Error: \",maeLO)\n",
    "print(\"Mean Squared Error: \",mseLO)\n",
    "print(\"Root Mean Squared Error: \",rmseLO)"
   ]
  },
  {
   "cell_type": "code",
   "execution_count": 71,
   "metadata": {
    "collapsed": true
   },
   "outputs": [],
   "source": [
    "yLO_pred=list(yLO_pred)\n",
    "yLO_test=list(yLO_test)\n",
    "resultols=list(zip(yLO_test,yLO_pred))\n",
    "resultols=pd.DataFrame(resultols,columns=[\"Actual\",\"Predicted\"])"
   ]
  },
  {
   "cell_type": "code",
   "execution_count": 72,
   "metadata": {
    "collapsed": true
   },
   "outputs": [],
   "source": [
    "resultols[\"Residuals\"]=resultols[\"Actual\"]-resultols[\"Predicted\"]"
   ]
  },
  {
   "cell_type": "code",
   "execution_count": 73,
   "metadata": {},
   "outputs": [
    {
     "data": {
      "image/png": "[encoded data removed]",
      "text/plain": [
       "<matplotlib.figure.Figure at 0x1fad3ad99e8>"
      ]
     },
     "metadata": {},
     "output_type": "display_data"
    }
   ],
   "source": [
    "plt.scatter(resultols[\"Predicted\"],resultols[\"Residuals\"])\n",
    "plt.axhline(y=0,color='red')\n",
    "plt.xlabel(\"Fitted Values\")\n",
    "plt.ylabel(\"Residuals\")\n",
    "plt.title(\"Fitted Values vs Residuals Graph for Heteroskedasticity\")\n",
    "plt.show()"
   ]
  },
  {
   "cell_type": "code",
   "execution_count": 74,
   "metadata": {},
   "outputs": [
    {
     "data": {
      "text/html": [
       "<div>\n",
       "<style>\n",
       "    .dataframe thead tr:only-child th {\n",
       "        text-align: right;\n",
       "    }\n",
       "\n",
       "    .dataframe thead th {\n",
       "        text-align: left;\n",
       "    }\n",
       "\n",
       "    .dataframe tbody tr th {\n",
       "        vertical-align: top;\n",
       "    }\n",
       "</style>\n",
       "<table border=\"1\" class=\"dataframe\">\n",
       "  <thead>\n",
       "    <tr style=\"text-align: right;\">\n",
       "      <th></th>\n",
       "      <th>Actual</th>\n",
       "      <th>Predicted</th>\n",
       "      <th>Residuals</th>\n",
       "    </tr>\n",
       "  </thead>\n",
       "  <tbody>\n",
       "    <tr>\n",
       "      <th>0</th>\n",
       "      <td>68.4</td>\n",
       "      <td>69.448941</td>\n",
       "      <td>-1.048941</td>\n",
       "    </tr>\n",
       "    <tr>\n",
       "      <th>1</th>\n",
       "      <td>80.2</td>\n",
       "      <td>77.134090</td>\n",
       "      <td>3.065910</td>\n",
       "    </tr>\n",
       "    <tr>\n",
       "      <th>2</th>\n",
       "      <td>46.1</td>\n",
       "      <td>42.239693</td>\n",
       "      <td>3.860307</td>\n",
       "    </tr>\n",
       "    <tr>\n",
       "      <th>3</th>\n",
       "      <td>76.4</td>\n",
       "      <td>73.649289</td>\n",
       "      <td>2.750711</td>\n",
       "    </tr>\n",
       "    <tr>\n",
       "      <th>4</th>\n",
       "      <td>62.6</td>\n",
       "      <td>63.016129</td>\n",
       "      <td>-0.416129</td>\n",
       "    </tr>\n",
       "  </tbody>\n",
       "</table>\n",
       "</div>"
      ],
      "text/plain": [
       "   Actual  Predicted  Residuals\n",
       "0    68.4  69.448941  -1.048941\n",
       "1    80.2  77.134090   3.065910\n",
       "2    46.1  42.239693   3.860307\n",
       "3    76.4  73.649289   2.750711\n",
       "4    62.6  63.016129  -0.416129"
      ]
     },
     "execution_count": 74,
     "metadata": {},
     "output_type": "execute_result"
    }
   ],
   "source": [
    "resultols.head()"
   ]
  },
  {
   "cell_type": "markdown",
   "metadata": {
    "collapsed": true
   },
   "source": [
    "## Linear Regression (Using Recursive Feature Selection)"
   ]
  },
  {
   "cell_type": "code",
   "execution_count": 95,
   "metadata": {
    "collapsed": true
   },
   "outputs": [],
   "source": [
    "model=LinearRegression()"
   ]
  },
  {
   "cell_type": "code",
   "execution_count": 96,
   "metadata": {
    "collapsed": true
   },
   "outputs": [],
   "source": [
    "rfe=RFE(model,4)"
   ]
  },
  {
   "cell_type": "code",
   "execution_count": 97,
   "metadata": {
    "collapsed": true
   },
   "outputs": [],
   "source": [
    "X_RFE=data.drop([\"life\"],1)\n",
    "y_RFE=data[\"life\"]"
   ]
  },
  {
   "cell_type": "code",
   "execution_count": 98,
   "metadata": {
    "collapsed": true
   },
   "outputs": [],
   "source": [
    "rfe = rfe.fit(X_RFE,y_RFE)"
   ]
  },
  {
   "cell_type": "code",
   "execution_count": 99,
   "metadata": {},
   "outputs": [
    {
     "name": "stdout",
     "output_type": "stream",
     "text": [
      "[10  1  2  8  1  9  5  7  4  1  1  3  6]\n"
     ]
    }
   ],
   "source": [
    "print(rfe.ranking_)"
   ]
  },
  {
   "cell_type": "code",
   "execution_count": 100,
   "metadata": {},
   "outputs": [
    {
     "data": {
      "text/html": [
       "<div>\n",
       "<style>\n",
       "    .dataframe thead tr:only-child th {\n",
       "        text-align: right;\n",
       "    }\n",
       "\n",
       "    .dataframe thead th {\n",
       "        text-align: left;\n",
       "    }\n",
       "\n",
       "    .dataframe tbody tr th {\n",
       "        vertical-align: top;\n",
       "    }\n",
       "</style>\n",
       "<table border=\"1\" class=\"dataframe\">\n",
       "  <thead>\n",
       "    <tr style=\"text-align: right;\">\n",
       "      <th></th>\n",
       "      <th>population</th>\n",
       "      <th>fertility</th>\n",
       "      <th>HIV</th>\n",
       "      <th>CO2</th>\n",
       "      <th>BMI_male</th>\n",
       "      <th>GDP</th>\n",
       "      <th>BMI_female</th>\n",
       "      <th>child_mortality</th>\n",
       "      <th>Region_America</th>\n",
       "      <th>Region_East Asia &amp; Pacific</th>\n",
       "      <th>Region_Europe &amp; Central Asia</th>\n",
       "      <th>Region_South Asia</th>\n",
       "      <th>Region_Sub-Saharan Africa</th>\n",
       "    </tr>\n",
       "  </thead>\n",
       "  <tbody>\n",
       "    <tr>\n",
       "      <th>0</th>\n",
       "      <td>34811059.0</td>\n",
       "      <td>2.73</td>\n",
       "      <td>0.1</td>\n",
       "      <td>3.328945</td>\n",
       "      <td>24.59620</td>\n",
       "      <td>12314.0</td>\n",
       "      <td>129.9049</td>\n",
       "      <td>29.5</td>\n",
       "      <td>0</td>\n",
       "      <td>0</td>\n",
       "      <td>0</td>\n",
       "      <td>0</td>\n",
       "      <td>0</td>\n",
       "    </tr>\n",
       "    <tr>\n",
       "      <th>1</th>\n",
       "      <td>19842251.0</td>\n",
       "      <td>6.43</td>\n",
       "      <td>2.0</td>\n",
       "      <td>1.474353</td>\n",
       "      <td>22.25083</td>\n",
       "      <td>7103.0</td>\n",
       "      <td>130.1247</td>\n",
       "      <td>192.0</td>\n",
       "      <td>0</td>\n",
       "      <td>0</td>\n",
       "      <td>0</td>\n",
       "      <td>0</td>\n",
       "      <td>1</td>\n",
       "    </tr>\n",
       "    <tr>\n",
       "      <th>2</th>\n",
       "      <td>40381860.0</td>\n",
       "      <td>2.24</td>\n",
       "      <td>0.5</td>\n",
       "      <td>4.785170</td>\n",
       "      <td>27.50170</td>\n",
       "      <td>14646.0</td>\n",
       "      <td>118.8915</td>\n",
       "      <td>15.4</td>\n",
       "      <td>1</td>\n",
       "      <td>0</td>\n",
       "      <td>0</td>\n",
       "      <td>0</td>\n",
       "      <td>0</td>\n",
       "    </tr>\n",
       "    <tr>\n",
       "      <th>3</th>\n",
       "      <td>2975029.0</td>\n",
       "      <td>1.40</td>\n",
       "      <td>0.1</td>\n",
       "      <td>1.804106</td>\n",
       "      <td>25.35542</td>\n",
       "      <td>7383.0</td>\n",
       "      <td>132.8108</td>\n",
       "      <td>20.0</td>\n",
       "      <td>0</td>\n",
       "      <td>0</td>\n",
       "      <td>1</td>\n",
       "      <td>0</td>\n",
       "      <td>0</td>\n",
       "    </tr>\n",
       "    <tr>\n",
       "      <th>4</th>\n",
       "      <td>21370348.0</td>\n",
       "      <td>1.96</td>\n",
       "      <td>0.1</td>\n",
       "      <td>18.016313</td>\n",
       "      <td>27.56373</td>\n",
       "      <td>41312.0</td>\n",
       "      <td>117.3755</td>\n",
       "      <td>5.2</td>\n",
       "      <td>0</td>\n",
       "      <td>1</td>\n",
       "      <td>0</td>\n",
       "      <td>0</td>\n",
       "      <td>0</td>\n",
       "    </tr>\n",
       "  </tbody>\n",
       "</table>\n",
       "</div>"
      ],
      "text/plain": [
       "   population  fertility  HIV        CO2  BMI_male      GDP  BMI_female  \\\n",
       "0  34811059.0       2.73  0.1   3.328945  24.59620  12314.0    129.9049   \n",
       "1  19842251.0       6.43  2.0   1.474353  22.25083   7103.0    130.1247   \n",
       "2  40381860.0       2.24  0.5   4.785170  27.50170  14646.0    118.8915   \n",
       "3   2975029.0       1.40  0.1   1.804106  25.35542   7383.0    132.8108   \n",
       "4  21370348.0       1.96  0.1  18.016313  27.56373  41312.0    117.3755   \n",
       "\n",
       "   child_mortality  Region_America  Region_East Asia & Pacific  \\\n",
       "0             29.5               0                           0   \n",
       "1            192.0               0                           0   \n",
       "2             15.4               1                           0   \n",
       "3             20.0               0                           0   \n",
       "4              5.2               0                           1   \n",
       "\n",
       "   Region_Europe & Central Asia  Region_South Asia  Region_Sub-Saharan Africa  \n",
       "0                             0                  0                          0  \n",
       "1                             0                  0                          1  \n",
       "2                             0                  0                          0  \n",
       "3                             1                  0                          0  \n",
       "4                             0                  0                          0  "
      ]
     },
     "execution_count": 100,
     "metadata": {},
     "output_type": "execute_result"
    }
   ],
   "source": [
    "X_RFE.head()"
   ]
  },
  {
   "cell_type": "code",
   "execution_count": 82,
   "metadata": {
    "collapsed": true
   },
   "outputs": [],
   "source": [
    "columns=list(data)"
   ]
  },
  {
   "cell_type": "code",
   "execution_count": 83,
   "metadata": {
    "collapsed": true
   },
   "outputs": [],
   "source": [
    "features=[]\n",
    "for i in range(0,13):\n",
    "    if[rank[i]==True]:\n",
    "        features.append(columns[i])\n",
    "    else:\n",
    "        countinue"
   ]
  },
  {
   "cell_type": "code",
   "execution_count": 101,
   "metadata": {
    "collapsed": true
   },
   "outputs": [],
   "source": [
    "X_RFE=data[[\"fertility\",\"BMI_male\",\"Region_Europe & Central Asia\",\"Region_East Asia & Pacific\"]]\n",
    "y_RFE=data[\"life\"]"
   ]
  },
  {
   "cell_type": "code",
   "execution_count": 120,
   "metadata": {
    "collapsed": true
   },
   "outputs": [],
   "source": [
    "XRFE_train,XRFE_test,yRFE_train,yRFE_test=tts(X_RFE,y_RFE,test_size=0.3,random_state=42)"
   ]
  },
  {
   "cell_type": "code",
   "execution_count": 121,
   "metadata": {
    "collapsed": true
   },
   "outputs": [],
   "source": [
    "linregrfe=LinearRegression()"
   ]
  },
  {
   "cell_type": "code",
   "execution_count": 122,
   "metadata": {},
   "outputs": [
    {
     "data": {
      "text/plain": [
       "LinearRegression(copy_X=True, fit_intercept=True, n_jobs=1, normalize=False)"
      ]
     },
     "execution_count": 122,
     "metadata": {},
     "output_type": "execute_result"
    }
   ],
   "source": [
    "linregrfe.fit(XRFE_train,yRFE_train)"
   ]
  },
  {
   "cell_type": "code",
   "execution_count": 123,
   "metadata": {
    "collapsed": true
   },
   "outputs": [],
   "source": [
    "yRFE_pred=linregrfe.predict(XRFE_test)"
   ]
  },
  {
   "cell_type": "code",
   "execution_count": 124,
   "metadata": {
    "collapsed": true
   },
   "outputs": [],
   "source": [
    "rRFE2=r2_score(yRFE_test,yRFE_pred)\n",
    "maeRFE=mean_absolute_error(yRFE_test,yRFE_pred)\n",
    "mseRFE=mean_squared_error(yRFE_test,yRFE_pred)\n",
    "rmseRFE=math.sqrt(mseRFE)\n",
    "ar2RFE=1-((1-rRFE2)*((n-1)/(n-(k+1))))"
   ]
  },
  {
   "cell_type": "code",
   "execution_count": 125,
   "metadata": {},
   "outputs": [
    {
     "name": "stdout",
     "output_type": "stream",
     "text": [
      "R-square:  0.739378040742\n",
      "Adjusted R-Square:  0.721195113352\n",
      "Mean Absolute Error:  3.48125331125\n",
      "Mean Squared Error:  16.9725470876\n",
      "Root Mean Squared Error:  4.119775125851769\n"
     ]
    }
   ],
   "source": [
    "print(\"R-square: \",rRFE2)\n",
    "print(\"Adjusted R-Square: \",ar2RFE)\n",
    "print(\"Mean Absolute Error: \",maeRFE)\n",
    "print(\"Mean Squared Error: \",mseRFE)\n",
    "print(\"Root Mean Squared Error: \",rmseRFE)"
   ]
  },
  {
   "cell_type": "code",
   "execution_count": null,
   "metadata": {
    "collapsed": true
   },
   "outputs": [],
   "source": []
  },
  {
   "cell_type": "code",
   "execution_count": null,
   "metadata": {
    "collapsed": true
   },
   "outputs": [],
   "source": []
  },
  {
   "cell_type": "code",
   "execution_count": null,
   "metadata": {
    "collapsed": true
   },
   "outputs": [],
   "source": []
  }
 ],
 "metadata": {
  "kernelspec": {
   "display_name": "Python 3",
   "language": "python",
   "name": "python3"
  },
  "language_info": {
   "codemirror_mode": {
    "name": "ipython",
    "version": 3
   },
   "file_extension": ".py",
   "mimetype": "text/x-python",
   "name": "python",
   "nbconvert_exporter": "python",
   "pygments_lexer": "ipython3",
   "version": "3.6.3"
  }
 },
 "nbformat": 4,
 "nbformat_minor": 2
}
