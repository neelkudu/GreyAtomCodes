{
 "cells": [
  {
   "cell_type": "code",
   "execution_count": 74,
   "metadata": {},
   "outputs": [
    {
     "data": {
      "text/html": [
       "<div>\n",
       "<style scoped>\n",
       "    .dataframe tbody tr th:only-of-type {\n",
       "        vertical-align: middle;\n",
       "    }\n",
       "\n",
       "    .dataframe tbody tr th {\n",
       "        vertical-align: top;\n",
       "    }\n",
       "\n",
       "    .dataframe thead th {\n",
       "        text-align: right;\n",
       "    }\n",
       "</style>\n",
       "<table border=\"1\" class=\"dataframe\">\n",
       "  <thead>\n",
       "    <tr style=\"text-align: right;\">\n",
       "      <th></th>\n",
       "      <th>population</th>\n",
       "      <th>fertility</th>\n",
       "      <th>HIV</th>\n",
       "      <th>CO2</th>\n",
       "      <th>BMI_male</th>\n",
       "      <th>GDP</th>\n",
       "      <th>BMI_female</th>\n",
       "      <th>life</th>\n",
       "      <th>child_mortality</th>\n",
       "      <th>Region</th>\n",
       "    </tr>\n",
       "  </thead>\n",
       "  <tbody>\n",
       "    <tr>\n",
       "      <th>0</th>\n",
       "      <td>34811059.0</td>\n",
       "      <td>2.73</td>\n",
       "      <td>0.1</td>\n",
       "      <td>3.328945</td>\n",
       "      <td>24.59620</td>\n",
       "      <td>12314.0</td>\n",
       "      <td>129.9049</td>\n",
       "      <td>75.3</td>\n",
       "      <td>29.5</td>\n",
       "      <td>Middle East &amp; North Africa</td>\n",
       "    </tr>\n",
       "    <tr>\n",
       "      <th>1</th>\n",
       "      <td>19842251.0</td>\n",
       "      <td>6.43</td>\n",
       "      <td>2.0</td>\n",
       "      <td>1.474353</td>\n",
       "      <td>22.25083</td>\n",
       "      <td>7103.0</td>\n",
       "      <td>130.1247</td>\n",
       "      <td>58.3</td>\n",
       "      <td>192.0</td>\n",
       "      <td>Sub-Saharan Africa</td>\n",
       "    </tr>\n",
       "    <tr>\n",
       "      <th>2</th>\n",
       "      <td>40381860.0</td>\n",
       "      <td>2.24</td>\n",
       "      <td>0.5</td>\n",
       "      <td>4.785170</td>\n",
       "      <td>27.50170</td>\n",
       "      <td>14646.0</td>\n",
       "      <td>118.8915</td>\n",
       "      <td>75.5</td>\n",
       "      <td>15.4</td>\n",
       "      <td>America</td>\n",
       "    </tr>\n",
       "    <tr>\n",
       "      <th>3</th>\n",
       "      <td>2975029.0</td>\n",
       "      <td>1.40</td>\n",
       "      <td>0.1</td>\n",
       "      <td>1.804106</td>\n",
       "      <td>25.35542</td>\n",
       "      <td>7383.0</td>\n",
       "      <td>132.8108</td>\n",
       "      <td>72.5</td>\n",
       "      <td>20.0</td>\n",
       "      <td>Europe &amp; Central Asia</td>\n",
       "    </tr>\n",
       "    <tr>\n",
       "      <th>4</th>\n",
       "      <td>21370348.0</td>\n",
       "      <td>1.96</td>\n",
       "      <td>0.1</td>\n",
       "      <td>18.016313</td>\n",
       "      <td>27.56373</td>\n",
       "      <td>41312.0</td>\n",
       "      <td>117.3755</td>\n",
       "      <td>81.5</td>\n",
       "      <td>5.2</td>\n",
       "      <td>East Asia &amp; Pacific</td>\n",
       "    </tr>\n",
       "  </tbody>\n",
       "</table>\n",
       "</div>"
      ],
      "text/plain": [
       "   population  fertility  HIV        CO2  BMI_male      GDP  BMI_female  life  \\\n",
       "0  34811059.0       2.73  0.1   3.328945  24.59620  12314.0    129.9049  75.3   \n",
       "1  19842251.0       6.43  2.0   1.474353  22.25083   7103.0    130.1247  58.3   \n",
       "2  40381860.0       2.24  0.5   4.785170  27.50170  14646.0    118.8915  75.5   \n",
       "3   2975029.0       1.40  0.1   1.804106  25.35542   7383.0    132.8108  72.5   \n",
       "4  21370348.0       1.96  0.1  18.016313  27.56373  41312.0    117.3755  81.5   \n",
       "\n",
       "   child_mortality                      Region  \n",
       "0             29.5  Middle East & North Africa  \n",
       "1            192.0          Sub-Saharan Africa  \n",
       "2             15.4                     America  \n",
       "3             20.0       Europe & Central Asia  \n",
       "4              5.2         East Asia & Pacific  "
      ]
     },
     "execution_count": 74,
     "metadata": {},
     "output_type": "execute_result"
    }
   ],
   "source": [
    "import pandas as pd \n",
    "df=pd.read_csv(\"C:\\\\Users\\\\Neel\\\\Desktop\\\\Greyatom Codes\\\\Datasets\\\\gapminder(1).csv\")\n",
    "df.head()"
   ]
  },
  {
   "cell_type": "code",
   "execution_count": 75,
   "metadata": {},
   "outputs": [
    {
     "data": {
      "text/plain": [
       "(139, 10)"
      ]
     },
     "execution_count": 75,
     "metadata": {},
     "output_type": "execute_result"
    }
   ],
   "source": [
    "df.shape"
   ]
  },
  {
   "cell_type": "code",
   "execution_count": 76,
   "metadata": {},
   "outputs": [
    {
     "data": {
      "text/plain": [
       "population         0\n",
       "fertility          0\n",
       "HIV                0\n",
       "CO2                0\n",
       "BMI_male           0\n",
       "GDP                0\n",
       "BMI_female         0\n",
       "life               0\n",
       "child_mortality    0\n",
       "Region             0\n",
       "dtype: int64"
      ]
     },
     "execution_count": 76,
     "metadata": {},
     "output_type": "execute_result"
    }
   ],
   "source": [
    "df.isnull().sum()"
   ]
  },
  {
   "cell_type": "code",
   "execution_count": 77,
   "metadata": {},
   "outputs": [],
   "source": [
    "df1=df"
   ]
  },
  {
   "cell_type": "code",
   "execution_count": 78,
   "metadata": {},
   "outputs": [],
   "source": [
    "df=pd.get_dummies(df) #To handle categorical columns"
   ]
  },
  {
   "cell_type": "code",
   "execution_count": 79,
   "metadata": {},
   "outputs": [
    {
     "data": {
      "text/html": [
       "<div>\n",
       "<style scoped>\n",
       "    .dataframe tbody tr th:only-of-type {\n",
       "        vertical-align: middle;\n",
       "    }\n",
       "\n",
       "    .dataframe tbody tr th {\n",
       "        vertical-align: top;\n",
       "    }\n",
       "\n",
       "    .dataframe thead th {\n",
       "        text-align: right;\n",
       "    }\n",
       "</style>\n",
       "<table border=\"1\" class=\"dataframe\">\n",
       "  <thead>\n",
       "    <tr style=\"text-align: right;\">\n",
       "      <th></th>\n",
       "      <th>population</th>\n",
       "      <th>fertility</th>\n",
       "      <th>HIV</th>\n",
       "      <th>CO2</th>\n",
       "      <th>BMI_male</th>\n",
       "      <th>GDP</th>\n",
       "      <th>BMI_female</th>\n",
       "      <th>life</th>\n",
       "      <th>child_mortality</th>\n",
       "      <th>Region_America</th>\n",
       "      <th>Region_East Asia &amp; Pacific</th>\n",
       "      <th>Region_Europe &amp; Central Asia</th>\n",
       "      <th>Region_Middle East &amp; North Africa</th>\n",
       "      <th>Region_South Asia</th>\n",
       "      <th>Region_Sub-Saharan Africa</th>\n",
       "    </tr>\n",
       "  </thead>\n",
       "  <tbody>\n",
       "    <tr>\n",
       "      <th>0</th>\n",
       "      <td>34811059.0</td>\n",
       "      <td>2.73</td>\n",
       "      <td>0.1</td>\n",
       "      <td>3.328945</td>\n",
       "      <td>24.59620</td>\n",
       "      <td>12314.0</td>\n",
       "      <td>129.9049</td>\n",
       "      <td>75.3</td>\n",
       "      <td>29.5</td>\n",
       "      <td>0</td>\n",
       "      <td>0</td>\n",
       "      <td>0</td>\n",
       "      <td>1</td>\n",
       "      <td>0</td>\n",
       "      <td>0</td>\n",
       "    </tr>\n",
       "    <tr>\n",
       "      <th>1</th>\n",
       "      <td>19842251.0</td>\n",
       "      <td>6.43</td>\n",
       "      <td>2.0</td>\n",
       "      <td>1.474353</td>\n",
       "      <td>22.25083</td>\n",
       "      <td>7103.0</td>\n",
       "      <td>130.1247</td>\n",
       "      <td>58.3</td>\n",
       "      <td>192.0</td>\n",
       "      <td>0</td>\n",
       "      <td>0</td>\n",
       "      <td>0</td>\n",
       "      <td>0</td>\n",
       "      <td>0</td>\n",
       "      <td>1</td>\n",
       "    </tr>\n",
       "    <tr>\n",
       "      <th>2</th>\n",
       "      <td>40381860.0</td>\n",
       "      <td>2.24</td>\n",
       "      <td>0.5</td>\n",
       "      <td>4.785170</td>\n",
       "      <td>27.50170</td>\n",
       "      <td>14646.0</td>\n",
       "      <td>118.8915</td>\n",
       "      <td>75.5</td>\n",
       "      <td>15.4</td>\n",
       "      <td>1</td>\n",
       "      <td>0</td>\n",
       "      <td>0</td>\n",
       "      <td>0</td>\n",
       "      <td>0</td>\n",
       "      <td>0</td>\n",
       "    </tr>\n",
       "    <tr>\n",
       "      <th>3</th>\n",
       "      <td>2975029.0</td>\n",
       "      <td>1.40</td>\n",
       "      <td>0.1</td>\n",
       "      <td>1.804106</td>\n",
       "      <td>25.35542</td>\n",
       "      <td>7383.0</td>\n",
       "      <td>132.8108</td>\n",
       "      <td>72.5</td>\n",
       "      <td>20.0</td>\n",
       "      <td>0</td>\n",
       "      <td>0</td>\n",
       "      <td>1</td>\n",
       "      <td>0</td>\n",
       "      <td>0</td>\n",
       "      <td>0</td>\n",
       "    </tr>\n",
       "    <tr>\n",
       "      <th>4</th>\n",
       "      <td>21370348.0</td>\n",
       "      <td>1.96</td>\n",
       "      <td>0.1</td>\n",
       "      <td>18.016313</td>\n",
       "      <td>27.56373</td>\n",
       "      <td>41312.0</td>\n",
       "      <td>117.3755</td>\n",
       "      <td>81.5</td>\n",
       "      <td>5.2</td>\n",
       "      <td>0</td>\n",
       "      <td>1</td>\n",
       "      <td>0</td>\n",
       "      <td>0</td>\n",
       "      <td>0</td>\n",
       "      <td>0</td>\n",
       "    </tr>\n",
       "  </tbody>\n",
       "</table>\n",
       "</div>"
      ],
      "text/plain": [
       "   population  fertility  HIV        CO2  BMI_male      GDP  BMI_female  life  \\\n",
       "0  34811059.0       2.73  0.1   3.328945  24.59620  12314.0    129.9049  75.3   \n",
       "1  19842251.0       6.43  2.0   1.474353  22.25083   7103.0    130.1247  58.3   \n",
       "2  40381860.0       2.24  0.5   4.785170  27.50170  14646.0    118.8915  75.5   \n",
       "3   2975029.0       1.40  0.1   1.804106  25.35542   7383.0    132.8108  72.5   \n",
       "4  21370348.0       1.96  0.1  18.016313  27.56373  41312.0    117.3755  81.5   \n",
       "\n",
       "   child_mortality  Region_America  Region_East Asia & Pacific  \\\n",
       "0             29.5               0                           0   \n",
       "1            192.0               0                           0   \n",
       "2             15.4               1                           0   \n",
       "3             20.0               0                           0   \n",
       "4              5.2               0                           1   \n",
       "\n",
       "   Region_Europe & Central Asia  Region_Middle East & North Africa  \\\n",
       "0                             0                                  1   \n",
       "1                             0                                  0   \n",
       "2                             0                                  0   \n",
       "3                             1                                  0   \n",
       "4                             0                                  0   \n",
       "\n",
       "   Region_South Asia  Region_Sub-Saharan Africa  \n",
       "0                  0                          0  \n",
       "1                  0                          1  \n",
       "2                  0                          0  \n",
       "3                  0                          0  \n",
       "4                  0                          0  "
      ]
     },
     "execution_count": 79,
     "metadata": {},
     "output_type": "execute_result"
    }
   ],
   "source": [
    "df.head()"
   ]
  },
  {
   "cell_type": "code",
   "execution_count": 80,
   "metadata": {},
   "outputs": [],
   "source": [
    "X=df.drop([\"life\"],1)\n",
    "y=df[\"life\"]"
   ]
  },
  {
   "cell_type": "markdown",
   "metadata": {},
   "source": [
    "### Solving the problem using KNN Regressor"
   ]
  },
  {
   "cell_type": "code",
   "execution_count": 81,
   "metadata": {},
   "outputs": [],
   "source": [
    "from sklearn import neighbors\n",
    "knn = neighbors.KNeighborsRegressor()"
   ]
  },
  {
   "cell_type": "code",
   "execution_count": 82,
   "metadata": {},
   "outputs": [],
   "source": [
    "from sklearn.model_selection import train_test_split as tts\n",
    "X_train,X_test,y_train,y_test = tts(x,y, test_size = 0.3, random_state = 0)"
   ]
  },
  {
   "cell_type": "code",
   "execution_count": 83,
   "metadata": {},
   "outputs": [
    {
     "data": {
      "text/plain": [
       "KNeighborsRegressor(algorithm='auto', leaf_size=30, metric='minkowski',\n",
       "                    metric_params=None, n_jobs=None, n_neighbors=5, p=2,\n",
       "                    weights='uniform')"
      ]
     },
     "execution_count": 83,
     "metadata": {},
     "output_type": "execute_result"
    }
   ],
   "source": [
    "knn.fit(X_train,y_train)"
   ]
  },
  {
   "cell_type": "code",
   "execution_count": 84,
   "metadata": {},
   "outputs": [],
   "source": [
    "from sklearn.metrics import r2_score"
   ]
  },
  {
   "cell_type": "code",
   "execution_count": 85,
   "metadata": {},
   "outputs": [],
   "source": [
    "y_pred=knn.predict(X_test)"
   ]
  },
  {
   "cell_type": "code",
   "execution_count": 86,
   "metadata": {},
   "outputs": [
    {
     "data": {
      "text/plain": [
       "-0.4702244260774566"
      ]
     },
     "execution_count": 86,
     "metadata": {},
     "output_type": "execute_result"
    }
   ],
   "source": [
    "r2_score(y_test,y_pred) #Since the scaling is not performed on the dataset"
   ]
  },
  {
   "cell_type": "markdown",
   "metadata": {},
   "source": [
    "### Applying Linear Regression on same problem without Feature Selection"
   ]
  },
  {
   "cell_type": "code",
   "execution_count": 87,
   "metadata": {},
   "outputs": [],
   "source": [
    "from sklearn.linear_model import LinearRegression"
   ]
  },
  {
   "cell_type": "code",
   "execution_count": 88,
   "metadata": {},
   "outputs": [],
   "source": [
    "lin_reg=LinearRegression()"
   ]
  },
  {
   "cell_type": "code",
   "execution_count": 89,
   "metadata": {},
   "outputs": [
    {
     "data": {
      "text/plain": [
       "LinearRegression(copy_X=True, fit_intercept=True, n_jobs=None, normalize=False)"
      ]
     },
     "execution_count": 89,
     "metadata": {},
     "output_type": "execute_result"
    }
   ],
   "source": [
    "lin_reg.fit(X_train,y_train)"
   ]
  },
  {
   "cell_type": "code",
   "execution_count": 90,
   "metadata": {},
   "outputs": [],
   "source": [
    "y_pred=lin_reg.predict(X_test)"
   ]
  },
  {
   "cell_type": "code",
   "execution_count": 91,
   "metadata": {},
   "outputs": [
    {
     "data": {
      "text/plain": [
       "0.8297487276646315"
      ]
     },
     "execution_count": 91,
     "metadata": {},
     "output_type": "execute_result"
    }
   ],
   "source": [
    "r2_score(y_test,y_pred)"
   ]
  },
  {
   "cell_type": "markdown",
   "metadata": {},
   "source": [
    "### Linear Regression after performing Feature Selection "
   ]
  },
  {
   "cell_type": "code",
   "execution_count": 92,
   "metadata": {},
   "outputs": [
    {
     "data": {
      "text/html": [
       "<div>\n",
       "<style scoped>\n",
       "    .dataframe tbody tr th:only-of-type {\n",
       "        vertical-align: middle;\n",
       "    }\n",
       "\n",
       "    .dataframe tbody tr th {\n",
       "        vertical-align: top;\n",
       "    }\n",
       "\n",
       "    .dataframe thead th {\n",
       "        text-align: right;\n",
       "    }\n",
       "</style>\n",
       "<table border=\"1\" class=\"dataframe\">\n",
       "  <thead>\n",
       "    <tr style=\"text-align: right;\">\n",
       "      <th></th>\n",
       "      <th>population</th>\n",
       "      <th>fertility</th>\n",
       "      <th>HIV</th>\n",
       "      <th>CO2</th>\n",
       "      <th>BMI_male</th>\n",
       "      <th>GDP</th>\n",
       "      <th>BMI_female</th>\n",
       "      <th>life</th>\n",
       "      <th>child_mortality</th>\n",
       "      <th>Region_America</th>\n",
       "      <th>Region_East Asia &amp; Pacific</th>\n",
       "      <th>Region_Europe &amp; Central Asia</th>\n",
       "      <th>Region_Middle East &amp; North Africa</th>\n",
       "      <th>Region_South Asia</th>\n",
       "      <th>Region_Sub-Saharan Africa</th>\n",
       "    </tr>\n",
       "  </thead>\n",
       "  <tbody>\n",
       "    <tr>\n",
       "      <th>population</th>\n",
       "      <td>1.000000</td>\n",
       "      <td>-0.061345</td>\n",
       "      <td>-0.065821</td>\n",
       "      <td>-0.010147</td>\n",
       "      <td>-0.134905</td>\n",
       "      <td>-0.045687</td>\n",
       "      <td>-0.135149</td>\n",
       "      <td>-0.005051</td>\n",
       "      <td>0.008058</td>\n",
       "      <td>-0.013131</td>\n",
       "      <td>0.052950</td>\n",
       "      <td>-0.087661</td>\n",
       "      <td>-0.028289</td>\n",
       "      <td>0.394109</td>\n",
       "      <td>-0.109651</td>\n",
       "    </tr>\n",
       "    <tr>\n",
       "      <th>fertility</th>\n",
       "      <td>-0.061345</td>\n",
       "      <td>1.000000</td>\n",
       "      <td>0.292695</td>\n",
       "      <td>-0.439747</td>\n",
       "      <td>-0.715380</td>\n",
       "      <td>-0.502615</td>\n",
       "      <td>0.527314</td>\n",
       "      <td>-0.786921</td>\n",
       "      <td>0.901704</td>\n",
       "      <td>-0.166060</td>\n",
       "      <td>-0.147947</td>\n",
       "      <td>-0.527514</td>\n",
       "      <td>-0.080802</td>\n",
       "      <td>-0.047537</td>\n",
       "      <td>0.843908</td>\n",
       "    </tr>\n",
       "    <tr>\n",
       "      <th>HIV</th>\n",
       "      <td>-0.065821</td>\n",
       "      <td>0.292695</td>\n",
       "      <td>1.000000</td>\n",
       "      <td>-0.165889</td>\n",
       "      <td>-0.308700</td>\n",
       "      <td>-0.208410</td>\n",
       "      <td>0.396680</td>\n",
       "      <td>-0.604749</td>\n",
       "      <td>0.394913</td>\n",
       "      <td>-0.119511</td>\n",
       "      <td>-0.118288</td>\n",
       "      <td>-0.244338</td>\n",
       "      <td>-0.098718</td>\n",
       "      <td>-0.091429</td>\n",
       "      <td>0.529699</td>\n",
       "    </tr>\n",
       "    <tr>\n",
       "      <th>CO2</th>\n",
       "      <td>-0.010147</td>\n",
       "      <td>-0.439747</td>\n",
       "      <td>-0.165889</td>\n",
       "      <td>1.000000</td>\n",
       "      <td>0.581031</td>\n",
       "      <td>0.823099</td>\n",
       "      <td>-0.280813</td>\n",
       "      <td>0.476666</td>\n",
       "      <td>-0.458186</td>\n",
       "      <td>0.011841</td>\n",
       "      <td>-0.004024</td>\n",
       "      <td>0.289134</td>\n",
       "      <td>0.232048</td>\n",
       "      <td>-0.125772</td>\n",
       "      <td>-0.370605</td>\n",
       "    </tr>\n",
       "    <tr>\n",
       "      <th>BMI_male</th>\n",
       "      <td>-0.134905</td>\n",
       "      <td>-0.715380</td>\n",
       "      <td>-0.308700</td>\n",
       "      <td>0.581031</td>\n",
       "      <td>1.000000</td>\n",
       "      <td>0.625126</td>\n",
       "      <td>-0.447049</td>\n",
       "      <td>0.731559</td>\n",
       "      <td>-0.749691</td>\n",
       "      <td>0.287028</td>\n",
       "      <td>-0.108400</td>\n",
       "      <td>0.521400</td>\n",
       "      <td>0.168036</td>\n",
       "      <td>-0.297883</td>\n",
       "      <td>-0.655982</td>\n",
       "    </tr>\n",
       "    <tr>\n",
       "      <th>GDP</th>\n",
       "      <td>-0.045687</td>\n",
       "      <td>-0.502615</td>\n",
       "      <td>-0.208410</td>\n",
       "      <td>0.823099</td>\n",
       "      <td>0.625126</td>\n",
       "      <td>1.000000</td>\n",
       "      <td>-0.400740</td>\n",
       "      <td>0.628999</td>\n",
       "      <td>-0.543874</td>\n",
       "      <td>-0.059432</td>\n",
       "      <td>0.015921</td>\n",
       "      <td>0.426041</td>\n",
       "      <td>0.155637</td>\n",
       "      <td>-0.136921</td>\n",
       "      <td>-0.410489</td>\n",
       "    </tr>\n",
       "    <tr>\n",
       "      <th>BMI_female</th>\n",
       "      <td>-0.135149</td>\n",
       "      <td>0.527314</td>\n",
       "      <td>0.396680</td>\n",
       "      <td>-0.280813</td>\n",
       "      <td>-0.447049</td>\n",
       "      <td>-0.400740</td>\n",
       "      <td>1.000000</td>\n",
       "      <td>-0.658718</td>\n",
       "      <td>0.582053</td>\n",
       "      <td>-0.413930</td>\n",
       "      <td>-0.330121</td>\n",
       "      <td>-0.044888</td>\n",
       "      <td>-0.003439</td>\n",
       "      <td>-0.098710</td>\n",
       "      <td>0.676033</td>\n",
       "    </tr>\n",
       "    <tr>\n",
       "      <th>life</th>\n",
       "      <td>-0.005051</td>\n",
       "      <td>-0.786921</td>\n",
       "      <td>-0.604749</td>\n",
       "      <td>0.476666</td>\n",
       "      <td>0.731559</td>\n",
       "      <td>0.628999</td>\n",
       "      <td>-0.658718</td>\n",
       "      <td>1.000000</td>\n",
       "      <td>-0.874106</td>\n",
       "      <td>0.228923</td>\n",
       "      <td>0.073007</td>\n",
       "      <td>0.457661</td>\n",
       "      <td>0.154909</td>\n",
       "      <td>-0.005864</td>\n",
       "      <td>-0.795163</td>\n",
       "    </tr>\n",
       "    <tr>\n",
       "      <th>child_mortality</th>\n",
       "      <td>0.008058</td>\n",
       "      <td>0.901704</td>\n",
       "      <td>0.394913</td>\n",
       "      <td>-0.458186</td>\n",
       "      <td>-0.749691</td>\n",
       "      <td>-0.543874</td>\n",
       "      <td>0.582053</td>\n",
       "      <td>-0.874106</td>\n",
       "      <td>1.000000</td>\n",
       "      <td>-0.234225</td>\n",
       "      <td>-0.119082</td>\n",
       "      <td>-0.479644</td>\n",
       "      <td>-0.119089</td>\n",
       "      <td>0.020088</td>\n",
       "      <td>0.825253</td>\n",
       "    </tr>\n",
       "    <tr>\n",
       "      <th>Region_America</th>\n",
       "      <td>-0.013131</td>\n",
       "      <td>-0.166060</td>\n",
       "      <td>-0.119511</td>\n",
       "      <td>0.011841</td>\n",
       "      <td>0.287028</td>\n",
       "      <td>-0.059432</td>\n",
       "      <td>-0.413930</td>\n",
       "      <td>0.228923</td>\n",
       "      <td>-0.234225</td>\n",
       "      <td>1.000000</td>\n",
       "      <td>-0.164317</td>\n",
       "      <td>-0.317579</td>\n",
       "      <td>-0.136703</td>\n",
       "      <td>-0.113067</td>\n",
       "      <td>-0.312094</td>\n",
       "    </tr>\n",
       "    <tr>\n",
       "      <th>Region_East Asia &amp; Pacific</th>\n",
       "      <td>0.052950</td>\n",
       "      <td>-0.147947</td>\n",
       "      <td>-0.118288</td>\n",
       "      <td>-0.004024</td>\n",
       "      <td>-0.108400</td>\n",
       "      <td>0.015921</td>\n",
       "      <td>-0.330121</td>\n",
       "      <td>0.073007</td>\n",
       "      <td>-0.119082</td>\n",
       "      <td>-0.164317</td>\n",
       "      <td>1.000000</td>\n",
       "      <td>-0.216465</td>\n",
       "      <td>-0.093178</td>\n",
       "      <td>-0.077067</td>\n",
       "      <td>-0.212726</td>\n",
       "    </tr>\n",
       "    <tr>\n",
       "      <th>Region_Europe &amp; Central Asia</th>\n",
       "      <td>-0.087661</td>\n",
       "      <td>-0.527514</td>\n",
       "      <td>-0.244338</td>\n",
       "      <td>0.289134</td>\n",
       "      <td>0.521400</td>\n",
       "      <td>0.426041</td>\n",
       "      <td>-0.044888</td>\n",
       "      <td>0.457661</td>\n",
       "      <td>-0.479644</td>\n",
       "      <td>-0.317579</td>\n",
       "      <td>-0.216465</td>\n",
       "      <td>1.000000</td>\n",
       "      <td>-0.180088</td>\n",
       "      <td>-0.148950</td>\n",
       "      <td>-0.411141</td>\n",
       "    </tr>\n",
       "    <tr>\n",
       "      <th>Region_Middle East &amp; North Africa</th>\n",
       "      <td>-0.028289</td>\n",
       "      <td>-0.080802</td>\n",
       "      <td>-0.098718</td>\n",
       "      <td>0.232048</td>\n",
       "      <td>0.168036</td>\n",
       "      <td>0.155637</td>\n",
       "      <td>-0.003439</td>\n",
       "      <td>0.154909</td>\n",
       "      <td>-0.119089</td>\n",
       "      <td>-0.136703</td>\n",
       "      <td>-0.093178</td>\n",
       "      <td>-0.180088</td>\n",
       "      <td>1.000000</td>\n",
       "      <td>-0.064116</td>\n",
       "      <td>-0.176977</td>\n",
       "    </tr>\n",
       "    <tr>\n",
       "      <th>Region_South Asia</th>\n",
       "      <td>0.394109</td>\n",
       "      <td>-0.047537</td>\n",
       "      <td>-0.091429</td>\n",
       "      <td>-0.125772</td>\n",
       "      <td>-0.297883</td>\n",
       "      <td>-0.136921</td>\n",
       "      <td>-0.098710</td>\n",
       "      <td>-0.005864</td>\n",
       "      <td>0.020088</td>\n",
       "      <td>-0.113067</td>\n",
       "      <td>-0.077067</td>\n",
       "      <td>-0.148950</td>\n",
       "      <td>-0.064116</td>\n",
       "      <td>1.000000</td>\n",
       "      <td>-0.146378</td>\n",
       "    </tr>\n",
       "    <tr>\n",
       "      <th>Region_Sub-Saharan Africa</th>\n",
       "      <td>-0.109651</td>\n",
       "      <td>0.843908</td>\n",
       "      <td>0.529699</td>\n",
       "      <td>-0.370605</td>\n",
       "      <td>-0.655982</td>\n",
       "      <td>-0.410489</td>\n",
       "      <td>0.676033</td>\n",
       "      <td>-0.795163</td>\n",
       "      <td>0.825253</td>\n",
       "      <td>-0.312094</td>\n",
       "      <td>-0.212726</td>\n",
       "      <td>-0.411141</td>\n",
       "      <td>-0.176977</td>\n",
       "      <td>-0.146378</td>\n",
       "      <td>1.000000</td>\n",
       "    </tr>\n",
       "  </tbody>\n",
       "</table>\n",
       "</div>"
      ],
      "text/plain": [
       "                                   population  fertility       HIV       CO2  \\\n",
       "population                           1.000000  -0.061345 -0.065821 -0.010147   \n",
       "fertility                           -0.061345   1.000000  0.292695 -0.439747   \n",
       "HIV                                 -0.065821   0.292695  1.000000 -0.165889   \n",
       "CO2                                 -0.010147  -0.439747 -0.165889  1.000000   \n",
       "BMI_male                            -0.134905  -0.715380 -0.308700  0.581031   \n",
       "GDP                                 -0.045687  -0.502615 -0.208410  0.823099   \n",
       "BMI_female                          -0.135149   0.527314  0.396680 -0.280813   \n",
       "life                                -0.005051  -0.786921 -0.604749  0.476666   \n",
       "child_mortality                      0.008058   0.901704  0.394913 -0.458186   \n",
       "Region_America                      -0.013131  -0.166060 -0.119511  0.011841   \n",
       "Region_East Asia & Pacific           0.052950  -0.147947 -0.118288 -0.004024   \n",
       "Region_Europe & Central Asia        -0.087661  -0.527514 -0.244338  0.289134   \n",
       "Region_Middle East & North Africa   -0.028289  -0.080802 -0.098718  0.232048   \n",
       "Region_South Asia                    0.394109  -0.047537 -0.091429 -0.125772   \n",
       "Region_Sub-Saharan Africa           -0.109651   0.843908  0.529699 -0.370605   \n",
       "\n",
       "                                   BMI_male       GDP  BMI_female      life  \\\n",
       "population                        -0.134905 -0.045687   -0.135149 -0.005051   \n",
       "fertility                         -0.715380 -0.502615    0.527314 -0.786921   \n",
       "HIV                               -0.308700 -0.208410    0.396680 -0.604749   \n",
       "CO2                                0.581031  0.823099   -0.280813  0.476666   \n",
       "BMI_male                           1.000000  0.625126   -0.447049  0.731559   \n",
       "GDP                                0.625126  1.000000   -0.400740  0.628999   \n",
       "BMI_female                        -0.447049 -0.400740    1.000000 -0.658718   \n",
       "life                               0.731559  0.628999   -0.658718  1.000000   \n",
       "child_mortality                   -0.749691 -0.543874    0.582053 -0.874106   \n",
       "Region_America                     0.287028 -0.059432   -0.413930  0.228923   \n",
       "Region_East Asia & Pacific        -0.108400  0.015921   -0.330121  0.073007   \n",
       "Region_Europe & Central Asia       0.521400  0.426041   -0.044888  0.457661   \n",
       "Region_Middle East & North Africa  0.168036  0.155637   -0.003439  0.154909   \n",
       "Region_South Asia                 -0.297883 -0.136921   -0.098710 -0.005864   \n",
       "Region_Sub-Saharan Africa         -0.655982 -0.410489    0.676033 -0.795163   \n",
       "\n",
       "                                   child_mortality  Region_America  \\\n",
       "population                                0.008058       -0.013131   \n",
       "fertility                                 0.901704       -0.166060   \n",
       "HIV                                       0.394913       -0.119511   \n",
       "CO2                                      -0.458186        0.011841   \n",
       "BMI_male                                 -0.749691        0.287028   \n",
       "GDP                                      -0.543874       -0.059432   \n",
       "BMI_female                                0.582053       -0.413930   \n",
       "life                                     -0.874106        0.228923   \n",
       "child_mortality                           1.000000       -0.234225   \n",
       "Region_America                           -0.234225        1.000000   \n",
       "Region_East Asia & Pacific               -0.119082       -0.164317   \n",
       "Region_Europe & Central Asia             -0.479644       -0.317579   \n",
       "Region_Middle East & North Africa        -0.119089       -0.136703   \n",
       "Region_South Asia                         0.020088       -0.113067   \n",
       "Region_Sub-Saharan Africa                 0.825253       -0.312094   \n",
       "\n",
       "                                   Region_East Asia & Pacific  \\\n",
       "population                                           0.052950   \n",
       "fertility                                           -0.147947   \n",
       "HIV                                                 -0.118288   \n",
       "CO2                                                 -0.004024   \n",
       "BMI_male                                            -0.108400   \n",
       "GDP                                                  0.015921   \n",
       "BMI_female                                          -0.330121   \n",
       "life                                                 0.073007   \n",
       "child_mortality                                     -0.119082   \n",
       "Region_America                                      -0.164317   \n",
       "Region_East Asia & Pacific                           1.000000   \n",
       "Region_Europe & Central Asia                        -0.216465   \n",
       "Region_Middle East & North Africa                   -0.093178   \n",
       "Region_South Asia                                   -0.077067   \n",
       "Region_Sub-Saharan Africa                           -0.212726   \n",
       "\n",
       "                                   Region_Europe & Central Asia  \\\n",
       "population                                            -0.087661   \n",
       "fertility                                             -0.527514   \n",
       "HIV                                                   -0.244338   \n",
       "CO2                                                    0.289134   \n",
       "BMI_male                                               0.521400   \n",
       "GDP                                                    0.426041   \n",
       "BMI_female                                            -0.044888   \n",
       "life                                                   0.457661   \n",
       "child_mortality                                       -0.479644   \n",
       "Region_America                                        -0.317579   \n",
       "Region_East Asia & Pacific                            -0.216465   \n",
       "Region_Europe & Central Asia                           1.000000   \n",
       "Region_Middle East & North Africa                     -0.180088   \n",
       "Region_South Asia                                     -0.148950   \n",
       "Region_Sub-Saharan Africa                             -0.411141   \n",
       "\n",
       "                                   Region_Middle East & North Africa  \\\n",
       "population                                                 -0.028289   \n",
       "fertility                                                  -0.080802   \n",
       "HIV                                                        -0.098718   \n",
       "CO2                                                         0.232048   \n",
       "BMI_male                                                    0.168036   \n",
       "GDP                                                         0.155637   \n",
       "BMI_female                                                 -0.003439   \n",
       "life                                                        0.154909   \n",
       "child_mortality                                            -0.119089   \n",
       "Region_America                                             -0.136703   \n",
       "Region_East Asia & Pacific                                 -0.093178   \n",
       "Region_Europe & Central Asia                               -0.180088   \n",
       "Region_Middle East & North Africa                           1.000000   \n",
       "Region_South Asia                                          -0.064116   \n",
       "Region_Sub-Saharan Africa                                  -0.176977   \n",
       "\n",
       "                                   Region_South Asia  \\\n",
       "population                                  0.394109   \n",
       "fertility                                  -0.047537   \n",
       "HIV                                        -0.091429   \n",
       "CO2                                        -0.125772   \n",
       "BMI_male                                   -0.297883   \n",
       "GDP                                        -0.136921   \n",
       "BMI_female                                 -0.098710   \n",
       "life                                       -0.005864   \n",
       "child_mortality                             0.020088   \n",
       "Region_America                             -0.113067   \n",
       "Region_East Asia & Pacific                 -0.077067   \n",
       "Region_Europe & Central Asia               -0.148950   \n",
       "Region_Middle East & North Africa          -0.064116   \n",
       "Region_South Asia                           1.000000   \n",
       "Region_Sub-Saharan Africa                  -0.146378   \n",
       "\n",
       "                                   Region_Sub-Saharan Africa  \n",
       "population                                         -0.109651  \n",
       "fertility                                           0.843908  \n",
       "HIV                                                 0.529699  \n",
       "CO2                                                -0.370605  \n",
       "BMI_male                                           -0.655982  \n",
       "GDP                                                -0.410489  \n",
       "BMI_female                                          0.676033  \n",
       "life                                               -0.795163  \n",
       "child_mortality                                     0.825253  \n",
       "Region_America                                     -0.312094  \n",
       "Region_East Asia & Pacific                         -0.212726  \n",
       "Region_Europe & Central Asia                       -0.411141  \n",
       "Region_Middle East & North Africa                  -0.176977  \n",
       "Region_South Asia                                  -0.146378  \n",
       "Region_Sub-Saharan Africa                           1.000000  "
      ]
     },
     "execution_count": 92,
     "metadata": {},
     "output_type": "execute_result"
    }
   ],
   "source": [
    "import seaborn as sns\n",
    "df.corr()"
   ]
  },
  {
   "cell_type": "code",
   "execution_count": 93,
   "metadata": {},
   "outputs": [],
   "source": [
    "import matplotlib.pyplot as plt"
   ]
  },
  {
   "cell_type": "code",
   "execution_count": 94,
   "metadata": {},
   "outputs": [
    {
     "data": {
      "image/png": "[encoded data removed]",
      "text/plain": [
       "<Figure size 1152x576 with 2 Axes>"
      ]
     },
     "metadata": {
      "needs_background": "light"
     },
     "output_type": "display_data"
    }
   ],
   "source": [
    "plt.figure(figsize=(16,8))\n",
    "sns.heatmap(df.corr(),annot=True)\n",
    "plt.show()"
   ]
  },
  {
   "cell_type": "code",
   "execution_count": 95,
   "metadata": {},
   "outputs": [],
   "source": [
    "X=df1[[\"fertility\",\"GDP\"]]\n",
    "y=df1[\"child_mortality\"]"
   ]
  },
  {
   "cell_type": "code",
   "execution_count": 96,
   "metadata": {},
   "outputs": [],
   "source": [
    "from sklearn.linear_model import LinearRegression"
   ]
  },
  {
   "cell_type": "code",
   "execution_count": 97,
   "metadata": {},
   "outputs": [],
   "source": [
    "lin_reg=LinearRegression()"
   ]
  },
  {
   "cell_type": "code",
   "execution_count": 98,
   "metadata": {},
   "outputs": [],
   "source": [
    "X_train,X_test,y_train,y_test = tts(X,y, test_size = 0.3, random_state = 42)"
   ]
  },
  {
   "cell_type": "code",
   "execution_count": 99,
   "metadata": {},
   "outputs": [
    {
     "data": {
      "text/plain": [
       "LinearRegression(copy_X=True, fit_intercept=True, n_jobs=None, normalize=False)"
      ]
     },
     "execution_count": 99,
     "metadata": {},
     "output_type": "execute_result"
    }
   ],
   "source": [
    "lin_reg.fit(X_train,y_train)"
   ]
  },
  {
   "cell_type": "code",
   "execution_count": 100,
   "metadata": {},
   "outputs": [],
   "source": [
    "y_pred=lin_reg.predict(X_test)"
   ]
  },
  {
   "cell_type": "code",
   "execution_count": 101,
   "metadata": {},
   "outputs": [
    {
     "data": {
      "text/plain": [
       "0.8841889393331849"
      ]
     },
     "execution_count": 101,
     "metadata": {},
     "output_type": "execute_result"
    }
   ],
   "source": [
    "r2_score(y_test,y_pred)"
   ]
  },
  {
   "cell_type": "code",
   "execution_count": 102,
   "metadata": {},
   "outputs": [
    {
     "data": {
      "text/html": [
       "<div>\n",
       "<style scoped>\n",
       "    .dataframe tbody tr th:only-of-type {\n",
       "        vertical-align: middle;\n",
       "    }\n",
       "\n",
       "    .dataframe tbody tr th {\n",
       "        vertical-align: top;\n",
       "    }\n",
       "\n",
       "    .dataframe thead th {\n",
       "        text-align: right;\n",
       "    }\n",
       "</style>\n",
       "<table border=\"1\" class=\"dataframe\">\n",
       "  <thead>\n",
       "    <tr style=\"text-align: right;\">\n",
       "      <th></th>\n",
       "      <th>R&amp;D Spend</th>\n",
       "      <th>Administration</th>\n",
       "      <th>Marketing Spend</th>\n",
       "      <th>State</th>\n",
       "      <th>Profit</th>\n",
       "    </tr>\n",
       "  </thead>\n",
       "  <tbody>\n",
       "    <tr>\n",
       "      <th>0</th>\n",
       "      <td>165349.20</td>\n",
       "      <td>136897.80</td>\n",
       "      <td>471784.10</td>\n",
       "      <td>New York</td>\n",
       "      <td>192261.83</td>\n",
       "    </tr>\n",
       "    <tr>\n",
       "      <th>1</th>\n",
       "      <td>162597.70</td>\n",
       "      <td>151377.59</td>\n",
       "      <td>443898.53</td>\n",
       "      <td>California</td>\n",
       "      <td>191792.06</td>\n",
       "    </tr>\n",
       "    <tr>\n",
       "      <th>2</th>\n",
       "      <td>153441.51</td>\n",
       "      <td>101145.55</td>\n",
       "      <td>407934.54</td>\n",
       "      <td>Florida</td>\n",
       "      <td>191050.39</td>\n",
       "    </tr>\n",
       "    <tr>\n",
       "      <th>3</th>\n",
       "      <td>144372.41</td>\n",
       "      <td>118671.85</td>\n",
       "      <td>383199.62</td>\n",
       "      <td>New York</td>\n",
       "      <td>182901.99</td>\n",
       "    </tr>\n",
       "    <tr>\n",
       "      <th>4</th>\n",
       "      <td>142107.34</td>\n",
       "      <td>91391.77</td>\n",
       "      <td>366168.42</td>\n",
       "      <td>Florida</td>\n",
       "      <td>166187.94</td>\n",
       "    </tr>\n",
       "  </tbody>\n",
       "</table>\n",
       "</div>"
      ],
      "text/plain": [
       "   R&D Spend  Administration  Marketing Spend       State     Profit\n",
       "0  165349.20       136897.80        471784.10    New York  192261.83\n",
       "1  162597.70       151377.59        443898.53  California  191792.06\n",
       "2  153441.51       101145.55        407934.54     Florida  191050.39\n",
       "3  144372.41       118671.85        383199.62    New York  182901.99\n",
       "4  142107.34        91391.77        366168.42     Florida  166187.94"
      ]
     },
     "execution_count": 102,
     "metadata": {},
     "output_type": "execute_result"
    }
   ],
   "source": [
    "s=pd.read_csv(\"C:\\\\Users\\\\Neel\\\\Desktop\\\\Greyatom Codes\\\\Datasets\\\\50_Startups.csv\")\n",
    "s.head()"
   ]
  },
  {
   "cell_type": "code",
   "execution_count": 103,
   "metadata": {},
   "outputs": [
    {
     "data": {
      "text/plain": [
       "(50, 5)"
      ]
     },
     "execution_count": 103,
     "metadata": {},
     "output_type": "execute_result"
    }
   ],
   "source": [
    "s.shape"
   ]
  },
  {
   "cell_type": "code",
   "execution_count": 104,
   "metadata": {},
   "outputs": [
    {
     "data": {
      "text/plain": [
       "New York      17\n",
       "California    17\n",
       "Florida       16\n",
       "Name: State, dtype: int64"
      ]
     },
     "execution_count": 104,
     "metadata": {},
     "output_type": "execute_result"
    }
   ],
   "source": [
    "s[\"State\"].value_counts()"
   ]
  },
  {
   "cell_type": "code",
   "execution_count": 105,
   "metadata": {},
   "outputs": [],
   "source": [
    "s=pd.get_dummies(s)"
   ]
  },
  {
   "cell_type": "code",
   "execution_count": 106,
   "metadata": {},
   "outputs": [],
   "source": [
    "s=s.drop([\"State_New York\"],1)"
   ]
  },
  {
   "cell_type": "code",
   "execution_count": 107,
   "metadata": {},
   "outputs": [],
   "source": [
    "X=s.drop([\"Profit\"],1)\n",
    "y=s[\"Profit\"]"
   ]
  },
  {
   "cell_type": "code",
   "execution_count": 108,
   "metadata": {},
   "outputs": [],
   "source": [
    "X_train,X_test,y_train,y_test = tts(X,y, test_size = 0.3, random_state = 42)"
   ]
  },
  {
   "cell_type": "code",
   "execution_count": 109,
   "metadata": {},
   "outputs": [],
   "source": [
    "lin_reg=LinearRegression(normalize=True)"
   ]
  },
  {
   "cell_type": "code",
   "execution_count": 110,
   "metadata": {},
   "outputs": [
    {
     "data": {
      "text/plain": [
       "LinearRegression(copy_X=True, fit_intercept=True, n_jobs=None, normalize=True)"
      ]
     },
     "execution_count": 110,
     "metadata": {},
     "output_type": "execute_result"
    }
   ],
   "source": [
    "lin_reg.fit(X_train,y_train)"
   ]
  },
  {
   "cell_type": "code",
   "execution_count": 111,
   "metadata": {},
   "outputs": [],
   "source": [
    "y_pred=lin_reg.predict(X_test)"
   ]
  },
  {
   "cell_type": "code",
   "execution_count": 112,
   "metadata": {},
   "outputs": [
    {
     "data": {
      "text/plain": [
       "0.9397108063355787"
      ]
     },
     "execution_count": 112,
     "metadata": {},
     "output_type": "execute_result"
    }
   ],
   "source": [
    "r2_score(y_test,y_pred)"
   ]
  },
  {
   "cell_type": "code",
   "execution_count": null,
   "metadata": {},
   "outputs": [],
   "source": []
  }
 ],
 "metadata": {
  "kernelspec": {
   "display_name": "Python 3",
   "language": "python",
   "name": "python3"
  },
  "language_info": {
   "codemirror_mode": {
    "name": "ipython",
    "version": 3
   },
   "file_extension": ".py",
   "mimetype": "text/x-python",
   "name": "python",
   "nbconvert_exporter": "python",
   "pygments_lexer": "ipython3",
   "version": "3.7.3"
  }
 },
 "nbformat": 4,
 "nbformat_minor": 2
}
